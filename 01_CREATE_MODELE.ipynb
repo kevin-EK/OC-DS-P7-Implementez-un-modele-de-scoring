{
 "cells": [
  {
   "cell_type": "markdown",
   "id": "8e15460b",
   "metadata": {},
   "source": [
    "### <b><font color='blue'>2.1 Imports</font></b>"
   ]
  },
  {
   "cell_type": "code",
   "execution_count": 1,
   "id": "d24d660b",
   "metadata": {},
   "outputs": [],
   "source": [
    "# Built-in\n",
    "import os, warnings, gc, joblib\n",
    "\n",
    "# Data\n",
    "import numpy as np\n",
    "import pandas as pd\n",
    "\n",
    "#Visualisation\n",
    "import matplotlib.pyplot as plt\n",
    "import seaborn as sns\n",
    "#%matplotlib inline\n",
    "\n",
    "#Preprocessing\n",
    "from sklearn.preprocessing import OneHotEncoder, StandardScaler\n",
    "\n",
    "#metrics\n",
    "from sklearn.metrics import accuracy_score,auc,f1_score\n",
    "\n",
    "# feature selection\n",
    "from sklearn.feature_selection import VarianceThreshold\n",
    "\n",
    "#feature sampling\n",
    "from imblearn.over_sampling import SMOTENC"
   ]
  },
  {
   "cell_type": "code",
   "execution_count": 2,
   "id": "612155b6",
   "metadata": {},
   "outputs": [],
   "source": [
    "%matplotlib inline\n",
    "from pylab import rcParams\n",
    "import warnings\n",
    "rcParams['figure.figsize'] = 10, 6\n",
    "warnings.filterwarnings('ignore')\n",
    "sns.set(style = \"darkgrid\")"
   ]
  },
  {
   "cell_type": "code",
   "execution_count": 3,
   "id": "9cb3264e",
   "metadata": {},
   "outputs": [],
   "source": [
    "pd.set_option('display.max_rows', 500)\n",
    "pd.set_option('display.max_columns', 500)\n",
    "pd.set_option('display.width', None)\n",
    "pd.set_option('display.expand_frame_repr', False)\n",
    "pd.set_option(\"expand_frame_repr\", False)"
   ]
  },
  {
   "cell_type": "code",
   "execution_count": 328,
   "id": "bd650f7a",
   "metadata": {},
   "outputs": [],
   "source": [
    "########################\n",
    "\n",
    "def re_discretize(discrete_values, values_to_discretize):\n",
    "    \"\"\" This function is useful for re-discretizing the values of\n",
    "    synthetic individuals after SMOTE in any numerical variable that\n",
    "    is originally discrete.\n",
    "    It rounds the values in the array values_to_discretize to the\n",
    "    closest value in the array discrete_values (which represents the\n",
    "    truly existing values of the discrete variable)\n",
    "\n",
    "    Parameters\n",
    "    ----------\n",
    "    discrete_values : Array-like\n",
    "        Original discrete values, sorted in ascending/descending order\n",
    "    values_to_discretize : Array-like\n",
    "        Values to be discretized\n",
    "\n",
    "    Returns\n",
    "    -------\n",
    "    np.ndarray\n",
    "        Same shape as values_to_discretize, rounded to the\n",
    "        nearest value found in discrete_values\n",
    "    \"\"\"\n",
    "    # The function searchsorted identifies for every value in\n",
    "    # values_to_discretize the index that should be used if inserting\n",
    "    # values, to maintain an ordered array\n",
    "    insertion_index = np.searchsorted(discrete_values, values_to_discretize)\n",
    "\n",
    "    # We use this index to get the closest lower index and the closest upper\n",
    "    # index\n",
    "    index_closest_lower = (insertion_index).clip(min=0)\n",
    "    index_closest_upper = insertion_index.clip(max=len(discrete_values) - 1)\n",
    "\n",
    "    # We use these indexes to compute the distances between a value in\n",
    "    # values_to_discretize and its closest values (lower and upper) in\n",
    "    # discrete_values\n",
    "    closest_indexes = np.vstack((index_closest_lower, index_closest_upper))\n",
    "    closest_values = np.take(discrete_values, closest_indexes)\n",
    "    shortest_distances = abs(closest_values[0] - np.vstack((values_to_discretize,values_to_discretize)))\n",
    "\n",
    "    # We then use the value that is the nearest between these lower\n",
    "    # and upper bounds\n",
    "    nearest_value = shortest_distances.argmin(axis=0)\n",
    "    discretized_values = closest_values[\n",
    "        nearest_value, np.arange(len(values_to_discretize))\n",
    "    ]\n",
    "\n",
    "    return discretized_values"
   ]
  },
  {
   "cell_type": "markdown",
   "id": "47f357c4",
   "metadata": {},
   "source": [
    "### <a name=\"C22\"><font color='blue'>2.2 Import DataFrames & Feature Engennering</font></a> "
   ]
  },
  {
   "cell_type": "code",
   "execution_count": 5,
   "id": "808747b3",
   "metadata": {},
   "outputs": [],
   "source": [
    "def train_application():\n",
    "    # Preprocess application_train.csv and application_test.csv\n",
    "    df = pd.read_csv('data/source/application_train.csv',index_col='SK_ID_CURR')\n",
    "    # Optional: Remove 4 applications with XNA CODE_GENDER (train set)\n",
    "    df = df[df['CODE_GENDER'] != 'XNA']\n",
    "    \n",
    "    # Only keep columns with less than 20% missing values.\n",
    "    colnoNas = joblib.load('data/cleaned/list_col_to_keep_from_train_application.joblib')\n",
    "    df = df[colnoNas]\n",
    "    \n",
    "    # Categorical features with Binary encode (0 or 1; two categories)\n",
    "    for bin_feature in ['CODE_GENDER', 'FLAG_OWN_CAR', 'FLAG_OWN_REALTY']:\n",
    "        df[bin_feature], uniques = pd.factorize(df[bin_feature])\n",
    "        \n",
    "    for x in ['FONDKAPREMONT_MODE','HOUSETYPE_MODE','NAME_TYPE_SUITE','OCCUPATION_TYPE','ORGANIZATION_TYPE']: \n",
    "        df[x].loc[df[x].isna()]='XNA'\n",
    "\n",
    "    # Categorical features with One-Hot encode\n",
    "    #df, cat_cols = one_hot_encoder(df, nan_as_category = False)\n",
    "\n",
    "    # NaN values for DAYS_EMPLOYED: 365.243 -> nan\n",
    "    df['DAYS_EMPLOYED'].replace(365243, np.nan, inplace= True)\n",
    "    # Some simple new features (percentages)\n",
    "    df['DAYS_EMPLOYED_PERC'] = df['DAYS_EMPLOYED'] / df['DAYS_BIRTH']\n",
    "    df['INCOME_CREDIT_PERC'] = df['AMT_INCOME_TOTAL'] / df['AMT_CREDIT']\n",
    "    df['INCOME_PER_PERSON'] = df['AMT_INCOME_TOTAL'] / df['CNT_FAM_MEMBERS']\n",
    "    df['ANNUITY_INCOME_PERC'] = df['AMT_ANNUITY'] / df['AMT_INCOME_TOTAL']\n",
    "    df['PAYMENT_RATE'] = df['AMT_ANNUITY'] / df['AMT_CREDIT']\n",
    "\n",
    "    # revenu par enfant\n",
    "    df['INCOME_PER_CHILDREN'] = df['AMT_INCOME_TOTAL'] / (df['CNT_CHILDREN']+1)\n",
    "\n",
    "    # ratio d'enfant\n",
    "    df['CHIDREN_RATE'] = df['CNT_CHILDREN'] / df['CNT_FAM_MEMBERS']\n",
    "\n",
    "    # ratio defaillance\n",
    "    #df['DEF_30_RATE'] = df['DEF_30_CNT_SOCIAL_CIRCLE'] / df['OBS_30_CNT_SOCIAL_CIRCLE']\n",
    "    #df['DEF_60_RATE'] = df['DEF_60_CNT_SOCIAL_CIRCLE'] / df['OBS_60_CNT_SOCIAL_CIRCLE']\n",
    "\n",
    "    gc.collect()\n",
    "    return df"
   ]
  },
  {
   "cell_type": "code",
   "execution_count": 6,
   "id": "5126a461",
   "metadata": {},
   "outputs": [
    {
     "name": "stdout",
     "output_type": "stream",
     "text": [
      "(307507, 80)\n"
     ]
    },
    {
     "data": {
      "text/html": [
       "<div>\n",
       "<style scoped>\n",
       "    .dataframe tbody tr th:only-of-type {\n",
       "        vertical-align: middle;\n",
       "    }\n",
       "\n",
       "    .dataframe tbody tr th {\n",
       "        vertical-align: top;\n",
       "    }\n",
       "\n",
       "    .dataframe thead th {\n",
       "        text-align: right;\n",
       "    }\n",
       "</style>\n",
       "<table border=\"1\" class=\"dataframe\">\n",
       "  <thead>\n",
       "    <tr style=\"text-align: right;\">\n",
       "      <th></th>\n",
       "      <th>SK_ID_CURR</th>\n",
       "      <th>TARGET</th>\n",
       "      <th>NAME_CONTRACT_TYPE</th>\n",
       "      <th>CODE_GENDER</th>\n",
       "      <th>FLAG_OWN_CAR</th>\n",
       "      <th>FLAG_OWN_REALTY</th>\n",
       "      <th>CNT_CHILDREN</th>\n",
       "      <th>AMT_INCOME_TOTAL</th>\n",
       "      <th>AMT_CREDIT</th>\n",
       "      <th>AMT_ANNUITY</th>\n",
       "      <th>AMT_GOODS_PRICE</th>\n",
       "      <th>NAME_TYPE_SUITE</th>\n",
       "      <th>NAME_INCOME_TYPE</th>\n",
       "      <th>NAME_EDUCATION_TYPE</th>\n",
       "      <th>NAME_FAMILY_STATUS</th>\n",
       "      <th>NAME_HOUSING_TYPE</th>\n",
       "      <th>REGION_POPULATION_RELATIVE</th>\n",
       "      <th>DAYS_BIRTH</th>\n",
       "      <th>DAYS_EMPLOYED</th>\n",
       "      <th>DAYS_REGISTRATION</th>\n",
       "      <th>DAYS_ID_PUBLISH</th>\n",
       "      <th>FLAG_MOBIL</th>\n",
       "      <th>FLAG_EMP_PHONE</th>\n",
       "      <th>FLAG_WORK_PHONE</th>\n",
       "      <th>FLAG_CONT_MOBILE</th>\n",
       "      <th>FLAG_PHONE</th>\n",
       "      <th>FLAG_EMAIL</th>\n",
       "      <th>OCCUPATION_TYPE</th>\n",
       "      <th>CNT_FAM_MEMBERS</th>\n",
       "      <th>REGION_RATING_CLIENT</th>\n",
       "      <th>REGION_RATING_CLIENT_W_CITY</th>\n",
       "      <th>REG_REGION_NOT_LIVE_REGION</th>\n",
       "      <th>REG_REGION_NOT_WORK_REGION</th>\n",
       "      <th>LIVE_REGION_NOT_WORK_REGION</th>\n",
       "      <th>REG_CITY_NOT_LIVE_CITY</th>\n",
       "      <th>REG_CITY_NOT_WORK_CITY</th>\n",
       "      <th>LIVE_CITY_NOT_WORK_CITY</th>\n",
       "      <th>ORGANIZATION_TYPE</th>\n",
       "      <th>EXT_SOURCE_2</th>\n",
       "      <th>EXT_SOURCE_3</th>\n",
       "      <th>FONDKAPREMONT_MODE</th>\n",
       "      <th>HOUSETYPE_MODE</th>\n",
       "      <th>OBS_30_CNT_SOCIAL_CIRCLE</th>\n",
       "      <th>DEF_30_CNT_SOCIAL_CIRCLE</th>\n",
       "      <th>OBS_60_CNT_SOCIAL_CIRCLE</th>\n",
       "      <th>DEF_60_CNT_SOCIAL_CIRCLE</th>\n",
       "      <th>DAYS_LAST_PHONE_CHANGE</th>\n",
       "      <th>FLAG_DOCUMENT_2</th>\n",
       "      <th>FLAG_DOCUMENT_3</th>\n",
       "      <th>FLAG_DOCUMENT_4</th>\n",
       "      <th>FLAG_DOCUMENT_5</th>\n",
       "      <th>FLAG_DOCUMENT_6</th>\n",
       "      <th>FLAG_DOCUMENT_7</th>\n",
       "      <th>FLAG_DOCUMENT_8</th>\n",
       "      <th>FLAG_DOCUMENT_9</th>\n",
       "      <th>FLAG_DOCUMENT_10</th>\n",
       "      <th>FLAG_DOCUMENT_11</th>\n",
       "      <th>FLAG_DOCUMENT_12</th>\n",
       "      <th>FLAG_DOCUMENT_13</th>\n",
       "      <th>FLAG_DOCUMENT_14</th>\n",
       "      <th>FLAG_DOCUMENT_15</th>\n",
       "      <th>FLAG_DOCUMENT_16</th>\n",
       "      <th>FLAG_DOCUMENT_17</th>\n",
       "      <th>FLAG_DOCUMENT_18</th>\n",
       "      <th>FLAG_DOCUMENT_19</th>\n",
       "      <th>FLAG_DOCUMENT_20</th>\n",
       "      <th>FLAG_DOCUMENT_21</th>\n",
       "      <th>AMT_REQ_CREDIT_BUREAU_HOUR</th>\n",
       "      <th>AMT_REQ_CREDIT_BUREAU_DAY</th>\n",
       "      <th>AMT_REQ_CREDIT_BUREAU_WEEK</th>\n",
       "      <th>AMT_REQ_CREDIT_BUREAU_MON</th>\n",
       "      <th>AMT_REQ_CREDIT_BUREAU_QRT</th>\n",
       "      <th>AMT_REQ_CREDIT_BUREAU_YEAR</th>\n",
       "      <th>DAYS_EMPLOYED_PERC</th>\n",
       "      <th>INCOME_CREDIT_PERC</th>\n",
       "      <th>INCOME_PER_PERSON</th>\n",
       "      <th>ANNUITY_INCOME_PERC</th>\n",
       "      <th>PAYMENT_RATE</th>\n",
       "      <th>INCOME_PER_CHILDREN</th>\n",
       "      <th>CHIDREN_RATE</th>\n",
       "    </tr>\n",
       "  </thead>\n",
       "  <tbody>\n",
       "    <tr>\n",
       "      <th>0</th>\n",
       "      <td>100002</td>\n",
       "      <td>1</td>\n",
       "      <td>Cash loans</td>\n",
       "      <td>0</td>\n",
       "      <td>0</td>\n",
       "      <td>0</td>\n",
       "      <td>0</td>\n",
       "      <td>202500.0</td>\n",
       "      <td>406597.5</td>\n",
       "      <td>24700.5</td>\n",
       "      <td>351000.0</td>\n",
       "      <td>Unaccompanied</td>\n",
       "      <td>Working</td>\n",
       "      <td>Secondary / secondary special</td>\n",
       "      <td>Single / not married</td>\n",
       "      <td>House / apartment</td>\n",
       "      <td>0.018801</td>\n",
       "      <td>-9461</td>\n",
       "      <td>-637.0</td>\n",
       "      <td>-3648.0</td>\n",
       "      <td>-2120</td>\n",
       "      <td>1</td>\n",
       "      <td>1</td>\n",
       "      <td>0</td>\n",
       "      <td>1</td>\n",
       "      <td>1</td>\n",
       "      <td>0</td>\n",
       "      <td>Laborers</td>\n",
       "      <td>1.0</td>\n",
       "      <td>2</td>\n",
       "      <td>2</td>\n",
       "      <td>0</td>\n",
       "      <td>0</td>\n",
       "      <td>0</td>\n",
       "      <td>0</td>\n",
       "      <td>0</td>\n",
       "      <td>0</td>\n",
       "      <td>Business Entity Type 3</td>\n",
       "      <td>0.262949</td>\n",
       "      <td>0.139376</td>\n",
       "      <td>reg oper account</td>\n",
       "      <td>block of flats</td>\n",
       "      <td>2.0</td>\n",
       "      <td>2.0</td>\n",
       "      <td>2.0</td>\n",
       "      <td>2.0</td>\n",
       "      <td>-1134.0</td>\n",
       "      <td>0</td>\n",
       "      <td>1</td>\n",
       "      <td>0</td>\n",
       "      <td>0</td>\n",
       "      <td>0</td>\n",
       "      <td>0</td>\n",
       "      <td>0</td>\n",
       "      <td>0</td>\n",
       "      <td>0</td>\n",
       "      <td>0</td>\n",
       "      <td>0</td>\n",
       "      <td>0</td>\n",
       "      <td>0</td>\n",
       "      <td>0</td>\n",
       "      <td>0</td>\n",
       "      <td>0</td>\n",
       "      <td>0</td>\n",
       "      <td>0</td>\n",
       "      <td>0</td>\n",
       "      <td>0</td>\n",
       "      <td>0.0</td>\n",
       "      <td>0.0</td>\n",
       "      <td>0.0</td>\n",
       "      <td>0.0</td>\n",
       "      <td>0.0</td>\n",
       "      <td>1.0</td>\n",
       "      <td>0.067329</td>\n",
       "      <td>0.498036</td>\n",
       "      <td>202500.0</td>\n",
       "      <td>0.121978</td>\n",
       "      <td>0.060749</td>\n",
       "      <td>202500.0</td>\n",
       "      <td>0.0</td>\n",
       "    </tr>\n",
       "    <tr>\n",
       "      <th>1</th>\n",
       "      <td>100003</td>\n",
       "      <td>0</td>\n",
       "      <td>Cash loans</td>\n",
       "      <td>1</td>\n",
       "      <td>0</td>\n",
       "      <td>1</td>\n",
       "      <td>0</td>\n",
       "      <td>270000.0</td>\n",
       "      <td>1293502.5</td>\n",
       "      <td>35698.5</td>\n",
       "      <td>1129500.0</td>\n",
       "      <td>Family</td>\n",
       "      <td>State servant</td>\n",
       "      <td>Higher education</td>\n",
       "      <td>Married</td>\n",
       "      <td>House / apartment</td>\n",
       "      <td>0.003541</td>\n",
       "      <td>-16765</td>\n",
       "      <td>-1188.0</td>\n",
       "      <td>-1186.0</td>\n",
       "      <td>-291</td>\n",
       "      <td>1</td>\n",
       "      <td>1</td>\n",
       "      <td>0</td>\n",
       "      <td>1</td>\n",
       "      <td>1</td>\n",
       "      <td>0</td>\n",
       "      <td>Core staff</td>\n",
       "      <td>2.0</td>\n",
       "      <td>1</td>\n",
       "      <td>1</td>\n",
       "      <td>0</td>\n",
       "      <td>0</td>\n",
       "      <td>0</td>\n",
       "      <td>0</td>\n",
       "      <td>0</td>\n",
       "      <td>0</td>\n",
       "      <td>School</td>\n",
       "      <td>0.622246</td>\n",
       "      <td>NaN</td>\n",
       "      <td>reg oper account</td>\n",
       "      <td>block of flats</td>\n",
       "      <td>1.0</td>\n",
       "      <td>0.0</td>\n",
       "      <td>1.0</td>\n",
       "      <td>0.0</td>\n",
       "      <td>-828.0</td>\n",
       "      <td>0</td>\n",
       "      <td>1</td>\n",
       "      <td>0</td>\n",
       "      <td>0</td>\n",
       "      <td>0</td>\n",
       "      <td>0</td>\n",
       "      <td>0</td>\n",
       "      <td>0</td>\n",
       "      <td>0</td>\n",
       "      <td>0</td>\n",
       "      <td>0</td>\n",
       "      <td>0</td>\n",
       "      <td>0</td>\n",
       "      <td>0</td>\n",
       "      <td>0</td>\n",
       "      <td>0</td>\n",
       "      <td>0</td>\n",
       "      <td>0</td>\n",
       "      <td>0</td>\n",
       "      <td>0</td>\n",
       "      <td>0.0</td>\n",
       "      <td>0.0</td>\n",
       "      <td>0.0</td>\n",
       "      <td>0.0</td>\n",
       "      <td>0.0</td>\n",
       "      <td>0.0</td>\n",
       "      <td>0.070862</td>\n",
       "      <td>0.208736</td>\n",
       "      <td>135000.0</td>\n",
       "      <td>0.132217</td>\n",
       "      <td>0.027598</td>\n",
       "      <td>270000.0</td>\n",
       "      <td>0.0</td>\n",
       "    </tr>\n",
       "    <tr>\n",
       "      <th>2</th>\n",
       "      <td>100004</td>\n",
       "      <td>0</td>\n",
       "      <td>Revolving loans</td>\n",
       "      <td>0</td>\n",
       "      <td>1</td>\n",
       "      <td>0</td>\n",
       "      <td>0</td>\n",
       "      <td>67500.0</td>\n",
       "      <td>135000.0</td>\n",
       "      <td>6750.0</td>\n",
       "      <td>135000.0</td>\n",
       "      <td>Unaccompanied</td>\n",
       "      <td>Working</td>\n",
       "      <td>Secondary / secondary special</td>\n",
       "      <td>Single / not married</td>\n",
       "      <td>House / apartment</td>\n",
       "      <td>0.010032</td>\n",
       "      <td>-19046</td>\n",
       "      <td>-225.0</td>\n",
       "      <td>-4260.0</td>\n",
       "      <td>-2531</td>\n",
       "      <td>1</td>\n",
       "      <td>1</td>\n",
       "      <td>1</td>\n",
       "      <td>1</td>\n",
       "      <td>1</td>\n",
       "      <td>0</td>\n",
       "      <td>Laborers</td>\n",
       "      <td>1.0</td>\n",
       "      <td>2</td>\n",
       "      <td>2</td>\n",
       "      <td>0</td>\n",
       "      <td>0</td>\n",
       "      <td>0</td>\n",
       "      <td>0</td>\n",
       "      <td>0</td>\n",
       "      <td>0</td>\n",
       "      <td>Government</td>\n",
       "      <td>0.555912</td>\n",
       "      <td>0.729567</td>\n",
       "      <td>XNA</td>\n",
       "      <td>XNA</td>\n",
       "      <td>0.0</td>\n",
       "      <td>0.0</td>\n",
       "      <td>0.0</td>\n",
       "      <td>0.0</td>\n",
       "      <td>-815.0</td>\n",
       "      <td>0</td>\n",
       "      <td>0</td>\n",
       "      <td>0</td>\n",
       "      <td>0</td>\n",
       "      <td>0</td>\n",
       "      <td>0</td>\n",
       "      <td>0</td>\n",
       "      <td>0</td>\n",
       "      <td>0</td>\n",
       "      <td>0</td>\n",
       "      <td>0</td>\n",
       "      <td>0</td>\n",
       "      <td>0</td>\n",
       "      <td>0</td>\n",
       "      <td>0</td>\n",
       "      <td>0</td>\n",
       "      <td>0</td>\n",
       "      <td>0</td>\n",
       "      <td>0</td>\n",
       "      <td>0</td>\n",
       "      <td>0.0</td>\n",
       "      <td>0.0</td>\n",
       "      <td>0.0</td>\n",
       "      <td>0.0</td>\n",
       "      <td>0.0</td>\n",
       "      <td>0.0</td>\n",
       "      <td>0.011814</td>\n",
       "      <td>0.500000</td>\n",
       "      <td>67500.0</td>\n",
       "      <td>0.100000</td>\n",
       "      <td>0.050000</td>\n",
       "      <td>67500.0</td>\n",
       "      <td>0.0</td>\n",
       "    </tr>\n",
       "    <tr>\n",
       "      <th>3</th>\n",
       "      <td>100006</td>\n",
       "      <td>0</td>\n",
       "      <td>Cash loans</td>\n",
       "      <td>1</td>\n",
       "      <td>0</td>\n",
       "      <td>0</td>\n",
       "      <td>0</td>\n",
       "      <td>135000.0</td>\n",
       "      <td>312682.5</td>\n",
       "      <td>29686.5</td>\n",
       "      <td>297000.0</td>\n",
       "      <td>Unaccompanied</td>\n",
       "      <td>Working</td>\n",
       "      <td>Secondary / secondary special</td>\n",
       "      <td>Civil marriage</td>\n",
       "      <td>House / apartment</td>\n",
       "      <td>0.008019</td>\n",
       "      <td>-19005</td>\n",
       "      <td>-3039.0</td>\n",
       "      <td>-9833.0</td>\n",
       "      <td>-2437</td>\n",
       "      <td>1</td>\n",
       "      <td>1</td>\n",
       "      <td>0</td>\n",
       "      <td>1</td>\n",
       "      <td>0</td>\n",
       "      <td>0</td>\n",
       "      <td>Laborers</td>\n",
       "      <td>2.0</td>\n",
       "      <td>2</td>\n",
       "      <td>2</td>\n",
       "      <td>0</td>\n",
       "      <td>0</td>\n",
       "      <td>0</td>\n",
       "      <td>0</td>\n",
       "      <td>0</td>\n",
       "      <td>0</td>\n",
       "      <td>Business Entity Type 3</td>\n",
       "      <td>0.650442</td>\n",
       "      <td>NaN</td>\n",
       "      <td>XNA</td>\n",
       "      <td>XNA</td>\n",
       "      <td>2.0</td>\n",
       "      <td>0.0</td>\n",
       "      <td>2.0</td>\n",
       "      <td>0.0</td>\n",
       "      <td>-617.0</td>\n",
       "      <td>0</td>\n",
       "      <td>1</td>\n",
       "      <td>0</td>\n",
       "      <td>0</td>\n",
       "      <td>0</td>\n",
       "      <td>0</td>\n",
       "      <td>0</td>\n",
       "      <td>0</td>\n",
       "      <td>0</td>\n",
       "      <td>0</td>\n",
       "      <td>0</td>\n",
       "      <td>0</td>\n",
       "      <td>0</td>\n",
       "      <td>0</td>\n",
       "      <td>0</td>\n",
       "      <td>0</td>\n",
       "      <td>0</td>\n",
       "      <td>0</td>\n",
       "      <td>0</td>\n",
       "      <td>0</td>\n",
       "      <td>NaN</td>\n",
       "      <td>NaN</td>\n",
       "      <td>NaN</td>\n",
       "      <td>NaN</td>\n",
       "      <td>NaN</td>\n",
       "      <td>NaN</td>\n",
       "      <td>0.159905</td>\n",
       "      <td>0.431748</td>\n",
       "      <td>67500.0</td>\n",
       "      <td>0.219900</td>\n",
       "      <td>0.094941</td>\n",
       "      <td>135000.0</td>\n",
       "      <td>0.0</td>\n",
       "    </tr>\n",
       "    <tr>\n",
       "      <th>4</th>\n",
       "      <td>100007</td>\n",
       "      <td>0</td>\n",
       "      <td>Cash loans</td>\n",
       "      <td>0</td>\n",
       "      <td>0</td>\n",
       "      <td>0</td>\n",
       "      <td>0</td>\n",
       "      <td>121500.0</td>\n",
       "      <td>513000.0</td>\n",
       "      <td>21865.5</td>\n",
       "      <td>513000.0</td>\n",
       "      <td>Unaccompanied</td>\n",
       "      <td>Working</td>\n",
       "      <td>Secondary / secondary special</td>\n",
       "      <td>Single / not married</td>\n",
       "      <td>House / apartment</td>\n",
       "      <td>0.028663</td>\n",
       "      <td>-19932</td>\n",
       "      <td>-3038.0</td>\n",
       "      <td>-4311.0</td>\n",
       "      <td>-3458</td>\n",
       "      <td>1</td>\n",
       "      <td>1</td>\n",
       "      <td>0</td>\n",
       "      <td>1</td>\n",
       "      <td>0</td>\n",
       "      <td>0</td>\n",
       "      <td>Core staff</td>\n",
       "      <td>1.0</td>\n",
       "      <td>2</td>\n",
       "      <td>2</td>\n",
       "      <td>0</td>\n",
       "      <td>0</td>\n",
       "      <td>0</td>\n",
       "      <td>0</td>\n",
       "      <td>1</td>\n",
       "      <td>1</td>\n",
       "      <td>Religion</td>\n",
       "      <td>0.322738</td>\n",
       "      <td>NaN</td>\n",
       "      <td>XNA</td>\n",
       "      <td>XNA</td>\n",
       "      <td>0.0</td>\n",
       "      <td>0.0</td>\n",
       "      <td>0.0</td>\n",
       "      <td>0.0</td>\n",
       "      <td>-1106.0</td>\n",
       "      <td>0</td>\n",
       "      <td>0</td>\n",
       "      <td>0</td>\n",
       "      <td>0</td>\n",
       "      <td>0</td>\n",
       "      <td>0</td>\n",
       "      <td>1</td>\n",
       "      <td>0</td>\n",
       "      <td>0</td>\n",
       "      <td>0</td>\n",
       "      <td>0</td>\n",
       "      <td>0</td>\n",
       "      <td>0</td>\n",
       "      <td>0</td>\n",
       "      <td>0</td>\n",
       "      <td>0</td>\n",
       "      <td>0</td>\n",
       "      <td>0</td>\n",
       "      <td>0</td>\n",
       "      <td>0</td>\n",
       "      <td>0.0</td>\n",
       "      <td>0.0</td>\n",
       "      <td>0.0</td>\n",
       "      <td>0.0</td>\n",
       "      <td>0.0</td>\n",
       "      <td>0.0</td>\n",
       "      <td>0.152418</td>\n",
       "      <td>0.236842</td>\n",
       "      <td>121500.0</td>\n",
       "      <td>0.179963</td>\n",
       "      <td>0.042623</td>\n",
       "      <td>121500.0</td>\n",
       "      <td>0.0</td>\n",
       "    </tr>\n",
       "  </tbody>\n",
       "</table>\n",
       "</div>"
      ],
      "text/plain": [
       "   SK_ID_CURR  TARGET NAME_CONTRACT_TYPE  CODE_GENDER  FLAG_OWN_CAR  FLAG_OWN_REALTY  CNT_CHILDREN  AMT_INCOME_TOTAL  AMT_CREDIT  AMT_ANNUITY  AMT_GOODS_PRICE NAME_TYPE_SUITE NAME_INCOME_TYPE            NAME_EDUCATION_TYPE    NAME_FAMILY_STATUS  NAME_HOUSING_TYPE  REGION_POPULATION_RELATIVE  DAYS_BIRTH  DAYS_EMPLOYED  DAYS_REGISTRATION  DAYS_ID_PUBLISH  FLAG_MOBIL  FLAG_EMP_PHONE  FLAG_WORK_PHONE  FLAG_CONT_MOBILE  FLAG_PHONE  FLAG_EMAIL OCCUPATION_TYPE  CNT_FAM_MEMBERS  REGION_RATING_CLIENT  REGION_RATING_CLIENT_W_CITY  REG_REGION_NOT_LIVE_REGION  REG_REGION_NOT_WORK_REGION  LIVE_REGION_NOT_WORK_REGION  REG_CITY_NOT_LIVE_CITY  REG_CITY_NOT_WORK_CITY  LIVE_CITY_NOT_WORK_CITY       ORGANIZATION_TYPE  EXT_SOURCE_2  EXT_SOURCE_3 FONDKAPREMONT_MODE  HOUSETYPE_MODE  OBS_30_CNT_SOCIAL_CIRCLE  DEF_30_CNT_SOCIAL_CIRCLE  OBS_60_CNT_SOCIAL_CIRCLE  DEF_60_CNT_SOCIAL_CIRCLE  DAYS_LAST_PHONE_CHANGE  FLAG_DOCUMENT_2  FLAG_DOCUMENT_3  FLAG_DOCUMENT_4  FLAG_DOCUMENT_5  FLAG_DOCUMENT_6  FLAG_DOCUMENT_7  FLAG_DOCUMENT_8  FLAG_DOCUMENT_9  FLAG_DOCUMENT_10  FLAG_DOCUMENT_11  FLAG_DOCUMENT_12  FLAG_DOCUMENT_13  FLAG_DOCUMENT_14  FLAG_DOCUMENT_15  FLAG_DOCUMENT_16  FLAG_DOCUMENT_17  FLAG_DOCUMENT_18  FLAG_DOCUMENT_19  FLAG_DOCUMENT_20  FLAG_DOCUMENT_21  AMT_REQ_CREDIT_BUREAU_HOUR  AMT_REQ_CREDIT_BUREAU_DAY  AMT_REQ_CREDIT_BUREAU_WEEK  AMT_REQ_CREDIT_BUREAU_MON  AMT_REQ_CREDIT_BUREAU_QRT  AMT_REQ_CREDIT_BUREAU_YEAR  DAYS_EMPLOYED_PERC  INCOME_CREDIT_PERC  INCOME_PER_PERSON  ANNUITY_INCOME_PERC  PAYMENT_RATE  INCOME_PER_CHILDREN  CHIDREN_RATE\n",
       "0      100002       1         Cash loans            0             0                0             0          202500.0    406597.5      24700.5         351000.0   Unaccompanied          Working  Secondary / secondary special  Single / not married  House / apartment                    0.018801       -9461         -637.0            -3648.0            -2120           1               1                0                 1           1           0        Laborers              1.0                     2                            2                           0                           0                            0                       0                       0                        0  Business Entity Type 3      0.262949      0.139376   reg oper account  block of flats                       2.0                       2.0                       2.0                       2.0                 -1134.0                0                1                0                0                0                0                0                0                 0                 0                 0                 0                 0                 0                 0                 0                 0                 0                 0                 0                         0.0                        0.0                         0.0                        0.0                        0.0                         1.0            0.067329            0.498036           202500.0             0.121978      0.060749             202500.0           0.0\n",
       "1      100003       0         Cash loans            1             0                1             0          270000.0   1293502.5      35698.5        1129500.0          Family    State servant               Higher education               Married  House / apartment                    0.003541      -16765        -1188.0            -1186.0             -291           1               1                0                 1           1           0      Core staff              2.0                     1                            1                           0                           0                            0                       0                       0                        0                  School      0.622246           NaN   reg oper account  block of flats                       1.0                       0.0                       1.0                       0.0                  -828.0                0                1                0                0                0                0                0                0                 0                 0                 0                 0                 0                 0                 0                 0                 0                 0                 0                 0                         0.0                        0.0                         0.0                        0.0                        0.0                         0.0            0.070862            0.208736           135000.0             0.132217      0.027598             270000.0           0.0\n",
       "2      100004       0    Revolving loans            0             1                0             0           67500.0    135000.0       6750.0         135000.0   Unaccompanied          Working  Secondary / secondary special  Single / not married  House / apartment                    0.010032      -19046         -225.0            -4260.0            -2531           1               1                1                 1           1           0        Laborers              1.0                     2                            2                           0                           0                            0                       0                       0                        0              Government      0.555912      0.729567                XNA             XNA                       0.0                       0.0                       0.0                       0.0                  -815.0                0                0                0                0                0                0                0                0                 0                 0                 0                 0                 0                 0                 0                 0                 0                 0                 0                 0                         0.0                        0.0                         0.0                        0.0                        0.0                         0.0            0.011814            0.500000            67500.0             0.100000      0.050000              67500.0           0.0\n",
       "3      100006       0         Cash loans            1             0                0             0          135000.0    312682.5      29686.5         297000.0   Unaccompanied          Working  Secondary / secondary special        Civil marriage  House / apartment                    0.008019      -19005        -3039.0            -9833.0            -2437           1               1                0                 1           0           0        Laborers              2.0                     2                            2                           0                           0                            0                       0                       0                        0  Business Entity Type 3      0.650442           NaN                XNA             XNA                       2.0                       0.0                       2.0                       0.0                  -617.0                0                1                0                0                0                0                0                0                 0                 0                 0                 0                 0                 0                 0                 0                 0                 0                 0                 0                         NaN                        NaN                         NaN                        NaN                        NaN                         NaN            0.159905            0.431748            67500.0             0.219900      0.094941             135000.0           0.0\n",
       "4      100007       0         Cash loans            0             0                0             0          121500.0    513000.0      21865.5         513000.0   Unaccompanied          Working  Secondary / secondary special  Single / not married  House / apartment                    0.028663      -19932        -3038.0            -4311.0            -3458           1               1                0                 1           0           0      Core staff              1.0                     2                            2                           0                           0                            0                       0                       1                        1                Religion      0.322738           NaN                XNA             XNA                       0.0                       0.0                       0.0                       0.0                 -1106.0                0                0                0                0                0                0                1                0                 0                 0                 0                 0                 0                 0                 0                 0                 0                 0                 0                 0                         0.0                        0.0                         0.0                        0.0                        0.0                         0.0            0.152418            0.236842           121500.0             0.179963      0.042623             121500.0           0.0"
      ]
     },
     "execution_count": 6,
     "metadata": {},
     "output_type": "execute_result"
    }
   ],
   "source": [
    "df = train_application().reset_index()\n",
    "print(df.shape)\n",
    "df.head()"
   ]
  },
  {
   "cell_type": "code",
   "execution_count": null,
   "id": "26a39062",
   "metadata": {},
   "outputs": [],
   "source": []
  },
  {
   "cell_type": "raw",
   "id": "730030ac",
   "metadata": {},
   "source": [
    "df = df.sample(20000,replace=False)"
   ]
  },
  {
   "cell_type": "code",
   "execution_count": null,
   "id": "6009b821",
   "metadata": {},
   "outputs": [],
   "source": []
  },
  {
   "cell_type": "code",
   "execution_count": null,
   "id": "9bc97b7a",
   "metadata": {},
   "outputs": [],
   "source": []
  },
  {
   "cell_type": "code",
   "execution_count": null,
   "id": "8d2c588a",
   "metadata": {},
   "outputs": [],
   "source": []
  },
  {
   "cell_type": "code",
   "execution_count": null,
   "id": "cb3275ee",
   "metadata": {},
   "outputs": [],
   "source": []
  },
  {
   "cell_type": "code",
   "execution_count": 8,
   "id": "80ec73b1",
   "metadata": {},
   "outputs": [],
   "source": [
    "import time\n",
    "from contextlib import contextmanager\n",
    "import warnings\n",
    "warnings.simplefilter(action='ignore', category=FutureWarning)\n",
    "\n",
    "@contextmanager\n",
    "def timer(title):\n",
    "    t0 = time.time()\n",
    "    yield\n",
    "    print(\"{} - done in {:.0f}s\".format(title, time.time() - t0))\n",
    "\n",
    "    # One-hot encoding for categorical columns with get_dummies\n",
    "def one_hot_encoder(df, nan_as_category = True):\n",
    "    original_columns = list(df.columns)\n",
    "    categorical_columns = [col for col in df.columns if df[col].dtype == 'object']\n",
    "    df = pd.get_dummies(df, columns= categorical_columns, dummy_na= nan_as_category)\n",
    "    new_columns = [c for c in df.columns if c not in original_columns]\n",
    "    return df, new_columns\n",
    "\n",
    "############################################################################################################################\n",
    "# Preprocess bureau.csv and bureau_balance.csv\n",
    "def bureau_and_balance(num_rows = None, nan_as_category = True):\n",
    "    bureau = pd.read_csv('data/source/bureau.csv', nrows = num_rows)\n",
    "    bb = pd.read_csv('data/source/bureau_balance.csv', nrows = num_rows)\n",
    "    bb, bb_cat = one_hot_encoder(bb, nan_as_category)\n",
    "    bureau, bureau_cat = one_hot_encoder(bureau, nan_as_category)\n",
    "    \n",
    "    # Bureau balance: Perform aggregations and merge with bureau.csv\n",
    "    bb_aggregations = {'MONTHS_BALANCE': ['min', 'max', 'size']}\n",
    "    for col in bb_cat:\n",
    "        bb_aggregations[col] = ['mean']\n",
    "    bb_agg = bb.groupby('SK_ID_BUREAU').agg(bb_aggregations)\n",
    "    bb_agg.columns = pd.Index([e[0] + \"_\" + e[1].upper() for e in bb_agg.columns.tolist()])\n",
    "    bureau = bureau.join(bb_agg, how='left', on='SK_ID_BUREAU')\n",
    "    bureau.drop(['SK_ID_BUREAU'], axis=1, inplace= True)\n",
    "    del bb, bb_agg\n",
    "    gc.collect()\n",
    "    \n",
    "    # Bureau and bureau_balance numeric features\n",
    "    num_aggregations = {\n",
    "        'DAYS_CREDIT': ['min', 'max', 'mean', 'var'],\n",
    "        'DAYS_CREDIT_ENDDATE': ['min', 'max', 'mean'],\n",
    "        'DAYS_CREDIT_UPDATE': ['mean'],\n",
    "        'CREDIT_DAY_OVERDUE': ['max', 'mean'],\n",
    "        'AMT_CREDIT_MAX_OVERDUE': ['mean'],\n",
    "        'AMT_CREDIT_SUM': ['max', 'mean', 'sum'],\n",
    "        'AMT_CREDIT_SUM_DEBT': ['max', 'mean', 'sum'],\n",
    "        'AMT_CREDIT_SUM_OVERDUE': ['mean'],\n",
    "        'AMT_CREDIT_SUM_LIMIT': ['mean', 'sum'],\n",
    "        'AMT_ANNUITY': ['max', 'mean'],\n",
    "        'CNT_CREDIT_PROLONG': ['sum'],\n",
    "        'MONTHS_BALANCE_MIN': ['min'],\n",
    "        'MONTHS_BALANCE_MAX': ['max'],\n",
    "        'MONTHS_BALANCE_SIZE': ['mean', 'sum']\n",
    "    }\n",
    "    # Bureau and bureau_balance categorical features\n",
    "    cat_aggregations = {}\n",
    "    for cat in bureau_cat: cat_aggregations[cat] = ['mean']\n",
    "    for cat in bb_cat: cat_aggregations[cat + \"_MEAN\"] = ['mean']\n",
    "    \n",
    "    bureau_agg = bureau.groupby('SK_ID_CURR').agg({**num_aggregations, **cat_aggregations})\n",
    "    bureau_agg.columns = pd.Index(['BURO_' + e[0] + \"_\" + e[1].upper() for e in bureau_agg.columns.tolist()])\n",
    "    # Bureau: Active credits - using only numerical aggregations\n",
    "    active = bureau[bureau['CREDIT_ACTIVE_Active'] == 1]\n",
    "    active_agg = active.groupby('SK_ID_CURR').agg(num_aggregations)\n",
    "    active_agg.columns = pd.Index(['ACTIVE_' + e[0] + \"_\" + e[1].upper() for e in active_agg.columns.tolist()])\n",
    "    bureau_agg = bureau_agg.join(active_agg, how='left', on='SK_ID_CURR')\n",
    "    del active, active_agg\n",
    "    gc.collect()\n",
    "    # Bureau: Closed credits - using only numerical aggregations\n",
    "    closed = bureau[bureau['CREDIT_ACTIVE_Closed'] == 1]\n",
    "    closed_agg = closed.groupby('SK_ID_CURR').agg(num_aggregations)\n",
    "    closed_agg.columns = pd.Index(['CLOSED_' + e[0] + \"_\" + e[1].upper() for e in closed_agg.columns.tolist()])\n",
    "    bureau_agg = bureau_agg.join(closed_agg, how='left', on='SK_ID_CURR')\n",
    "    del closed, closed_agg, bureau\n",
    "    gc.collect()\n",
    "    return bureau_agg\n",
    "\n",
    "############################################################################################################################\n",
    "# Preprocess previous_applications.csv\n",
    "def previous_applications(num_rows = None, nan_as_category = True):\n",
    "    prev = pd.read_csv('data/source/previous_application.csv', nrows = num_rows)\n",
    "    prev, cat_cols = one_hot_encoder(prev, nan_as_category= True)\n",
    "    # Days 365.243 values -> nan\n",
    "    prev['DAYS_FIRST_DRAWING'].replace(365243, np.nan, inplace= True)\n",
    "    prev['DAYS_FIRST_DUE'].replace(365243, np.nan, inplace= True)\n",
    "    prev['DAYS_LAST_DUE_1ST_VERSION'].replace(365243, np.nan, inplace= True)\n",
    "    prev['DAYS_LAST_DUE'].replace(365243, np.nan, inplace= True)\n",
    "    prev['DAYS_TERMINATION'].replace(365243, np.nan, inplace= True)\n",
    "    # Add feature: value ask / value received percentage\n",
    "    prev['APP_CREDIT_PERC'] = prev['AMT_APPLICATION'] / prev['AMT_CREDIT']\n",
    "    # Previous applications numeric features\n",
    "    num_aggregations = {\n",
    "        'AMT_ANNUITY': ['min', 'max', 'mean'],\n",
    "        'AMT_APPLICATION': ['min', 'max', 'mean'],\n",
    "        'AMT_CREDIT': ['min', 'max', 'mean'],\n",
    "        'APP_CREDIT_PERC': ['min', 'max', 'mean', 'var'],\n",
    "        'AMT_DOWN_PAYMENT': ['min', 'max', 'mean'],\n",
    "        'AMT_GOODS_PRICE': ['min', 'max', 'mean'],\n",
    "        'HOUR_APPR_PROCESS_START': ['min', 'max', 'mean'],\n",
    "        'RATE_DOWN_PAYMENT': ['min', 'max', 'mean'],\n",
    "        'DAYS_DECISION': ['min', 'max', 'mean'],\n",
    "        'CNT_PAYMENT': ['mean', 'sum'],\n",
    "    }\n",
    "    # Previous applications categorical features\n",
    "    cat_aggregations = {}\n",
    "    for cat in cat_cols:\n",
    "        cat_aggregations[cat] = ['mean']\n",
    "    \n",
    "    prev_agg = prev.groupby('SK_ID_CURR').agg({**num_aggregations, **cat_aggregations})\n",
    "    prev_agg.columns = pd.Index(['PREV_' + e[0] + \"_\" + e[1].upper() for e in prev_agg.columns.tolist()])\n",
    "    # Previous Applications: Approved Applications - only numerical features\n",
    "    approved = prev[prev['NAME_CONTRACT_STATUS_Approved'] == 1]\n",
    "    approved_agg = approved.groupby('SK_ID_CURR').agg(num_aggregations)\n",
    "    approved_agg.columns = pd.Index(['APPROVED_' + e[0] + \"_\" + e[1].upper() for e in approved_agg.columns.tolist()])\n",
    "    prev_agg = prev_agg.join(approved_agg, how='left', on='SK_ID_CURR')\n",
    "    # Previous Applications: Refused Applications - only numerical features\n",
    "    refused = prev[prev['NAME_CONTRACT_STATUS_Refused'] == 1]\n",
    "    refused_agg = refused.groupby('SK_ID_CURR').agg(num_aggregations)\n",
    "    refused_agg.columns = pd.Index(['REFUSED_' + e[0] + \"_\" + e[1].upper() for e in refused_agg.columns.tolist()])\n",
    "    prev_agg = prev_agg.join(refused_agg, how='left', on='SK_ID_CURR')\n",
    "    del refused, refused_agg, approved, approved_agg, prev\n",
    "    gc.collect()\n",
    "    return prev_agg\n",
    "\n",
    "############################################################################################################################\n",
    "# Preprocess POS_CASH_balance.csv\n",
    "def pos_cash(num_rows = None, nan_as_category = True):\n",
    "    pos = pd.read_csv('data/source/POS_CASH_balance.csv', nrows = num_rows)\n",
    "    pos, cat_cols = one_hot_encoder(pos, nan_as_category= True)\n",
    "    # Features\n",
    "    aggregations = {\n",
    "        'MONTHS_BALANCE': ['max', 'mean', 'size'],\n",
    "        'SK_DPD': ['max', 'mean'],\n",
    "        'SK_DPD_DEF': ['max', 'mean']\n",
    "    }\n",
    "    for cat in cat_cols:\n",
    "        aggregations[cat] = ['mean']\n",
    "    \n",
    "    pos_agg = pos.groupby('SK_ID_CURR').agg(aggregations)\n",
    "    pos_agg.columns = pd.Index(['POS_' + e[0] + \"_\" + e[1].upper() for e in pos_agg.columns.tolist()])\n",
    "    # Count pos cash accounts\n",
    "    pos_agg['POS_COUNT'] = pos.groupby('SK_ID_CURR').size()\n",
    "    del pos\n",
    "    gc.collect()\n",
    "    return pos_agg\n",
    "\n",
    "############################################################################################################################\n",
    "# Preprocess installments_payments.csv\n",
    "def installments_payments(num_rows = None, nan_as_category = True):\n",
    "    ins = pd.read_csv('data/source/installments_payments.csv', nrows = num_rows)\n",
    "    ins, cat_cols = one_hot_encoder(ins, nan_as_category= True)\n",
    "    # Percentage and difference paid in each installment (amount paid and installment value)\n",
    "    ins['PAYMENT_PERC'] = ins['AMT_PAYMENT'] / ins['AMT_INSTALMENT']\n",
    "    ins['PAYMENT_DIFF'] = ins['AMT_INSTALMENT'] - ins['AMT_PAYMENT']\n",
    "    # Days past due and days before due (no negative values)\n",
    "    ins['DPD'] = ins['DAYS_ENTRY_PAYMENT'] - ins['DAYS_INSTALMENT']\n",
    "    ins['DBD'] = ins['DAYS_INSTALMENT'] - ins['DAYS_ENTRY_PAYMENT']\n",
    "    ins['DPD'] = ins['DPD'].apply(lambda x: x if x > 0 else 0)\n",
    "    ins['DBD'] = ins['DBD'].apply(lambda x: x if x > 0 else 0)\n",
    "    # Features: Perform aggregations\n",
    "    aggregations = {\n",
    "        'NUM_INSTALMENT_VERSION': ['nunique'],\n",
    "        'DPD': ['max', 'mean', 'sum'],\n",
    "        'DBD': ['max', 'mean', 'sum'],\n",
    "        'PAYMENT_PERC': ['max', 'mean', 'sum', 'var'],\n",
    "        'PAYMENT_DIFF': ['max', 'mean', 'sum', 'var'],\n",
    "        'AMT_INSTALMENT': ['max', 'mean', 'sum'],\n",
    "        'AMT_PAYMENT': ['min', 'max', 'mean', 'sum'],\n",
    "        'DAYS_ENTRY_PAYMENT': ['max', 'mean', 'sum']\n",
    "    }\n",
    "    for cat in cat_cols:\n",
    "        aggregations[cat] = ['mean']\n",
    "    ins_agg = ins.groupby('SK_ID_CURR').agg(aggregations)\n",
    "    ins_agg.columns = pd.Index(['INSTAL_' + e[0] + \"_\" + e[1].upper() for e in ins_agg.columns.tolist()])\n",
    "    # Count installments accounts\n",
    "    ins_agg['INSTAL_COUNT'] = ins.groupby('SK_ID_CURR').size()\n",
    "    del ins\n",
    "    gc.collect()\n",
    "    return ins_agg\n",
    "\n",
    "############################################################################################################################\n",
    "# Preprocess credit_card_balance.csv\n",
    "def credit_card_balance(num_rows = None, nan_as_category = True):\n",
    "    cc = pd.read_csv('data/source/credit_card_balance.csv', nrows = num_rows)\n",
    "    cc, cat_cols = one_hot_encoder(cc, nan_as_category= True)\n",
    "    # General aggregations\n",
    "    cc.drop(['SK_ID_PREV'], axis= 1, inplace = True)\n",
    "    cc_agg = cc.groupby('SK_ID_CURR').agg(['min', 'max', 'mean', 'sum', 'var'])\n",
    "    cc_agg.columns = pd.Index(['CC_' + e[0] + \"_\" + e[1].upper() for e in cc_agg.columns.tolist()])\n",
    "    # Count credit card lines\n",
    "    cc_agg['CC_COUNT'] = cc.groupby('SK_ID_CURR').size()\n",
    "    del cc\n",
    "    gc.collect()\n",
    "    return cc_agg\n"
   ]
  },
  {
   "cell_type": "markdown",
   "id": "fb931130",
   "metadata": {},
   "source": [
    "### Merge all data"
   ]
  },
  {
   "cell_type": "code",
   "execution_count": 9,
   "id": "1b3873df",
   "metadata": {},
   "outputs": [
    {
     "name": "stdout",
     "output_type": "stream",
     "text": [
      "Bureau df shape: (305811, 18)\n",
      "Process bureau and bureau_balance - done in 20s\n",
      "Previous applications df shape: (338857, 61)\n",
      "Process previous_applications - done in 24s\n",
      "Pos-cash balance df shape: (337252, 8)\n",
      "Process POS-CASH balance - done in 11s\n",
      "Installments payments df shape: (339587, 13)\n",
      "Process installments payments - done in 25s\n"
     ]
    }
   ],
   "source": [
    "num_rows = None\n",
    "# Only keep columns with less than 20% missing values.\n",
    "bestfeatures = joblib.load('data/cleaned/list_best_features.joblib')\n",
    "\n",
    "\n",
    "with timer(\"Process bureau and bureau_balance\"):\n",
    "    bureau = bureau_and_balance(num_rows)\n",
    "    #bureau = bureau[[x for x in bureau.columns if x in bestfeatures]]\n",
    "    print(\"Bureau df shape:\", bureau.shape)\n",
    "    df = df.join(bureau, how='left', on='SK_ID_CURR')\n",
    "    del bureau\n",
    "    gc.collect()\n",
    "with timer(\"Process previous_applications\"):\n",
    "    prev = previous_applications(num_rows)\n",
    "    #prev = prev[[x for x in prev.columns if x in bestfeatures]]\n",
    "    print(\"Previous applications df shape:\", prev.shape)\n",
    "    df = df.join(prev, how='left', on='SK_ID_CURR')\n",
    "    del prev\n",
    "    gc.collect()\n",
    "with timer(\"Process POS-CASH balance\"):\n",
    "    pos = pos_cash(num_rows)\n",
    "    #pos = pos[[x for x in pos.columns if x in bestfeatures]]\n",
    "    print(\"Pos-cash balance df shape:\", pos.shape)\n",
    "    df = df.join(pos, how='left', on='SK_ID_CURR')\n",
    "    del pos\n",
    "    gc.collect()\n",
    "with timer(\"Process installments payments\"):\n",
    "    ins = installments_payments(num_rows)\n",
    "    #ins = ins[[x for x in ins.columns if x in bestfeatures]]\n",
    "    print(\"Installments payments df shape:\", ins.shape)\n",
    "    df = df.join(ins, how='left', on='SK_ID_CURR')\n",
    "    del ins\n",
    "    gc.collect()\n",
    "#with timer(\"Process credit card balance\"):\n",
    "#    cc = credit_card_balance(num_rows)\n",
    "#    print(\"Credit card balance df shape:\", cc.shape)\n",
    "#    df = df.join(cc, how='left', on='SK_ID_CURR')\n",
    "#    del cc\n",
    "#    gc.collect()"
   ]
  },
  {
   "cell_type": "code",
   "execution_count": 10,
   "id": "656dfbdd",
   "metadata": {},
   "outputs": [
    {
     "name": "stdout",
     "output_type": "stream",
     "text": [
      "<class 'pandas.core.frame.DataFrame'>\n",
      "Int64Index: 20000 entries, 76984 to 133862\n",
      "Columns: 180 entries, SK_ID_CURR to INSTAL_DAYS_ENTRY_PAYMENT_MEAN\n",
      "dtypes: float64(128), int64(42), object(10)\n",
      "memory usage: 27.6+ MB\n"
     ]
    }
   ],
   "source": [
    "df.info()"
   ]
  },
  {
   "cell_type": "markdown",
   "id": "1226d0ad",
   "metadata": {},
   "source": [
    "### Vriables discretes / variables categorielles / variables numeriques"
   ]
  },
  {
   "cell_type": "markdown",
   "id": "a0ffe136",
   "metadata": {},
   "source": [
    "#### variables discretes"
   ]
  },
  {
   "cell_type": "raw",
   "id": "e6e752af",
   "metadata": {},
   "source": [
    "df.nunique().value_counts().sort_index()[:20]"
   ]
  },
  {
   "cell_type": "code",
   "execution_count": 51,
   "id": "1cbb4ddd",
   "metadata": {},
   "outputs": [
    {
     "data": {
      "text/plain": [
       "CODE_GENDER                                                               [1, 0]\n",
       "FLAG_OWN_CAR                                                              [0, 1]\n",
       "FLAG_OWN_REALTY                                                           [1, 0]\n",
       "CNT_CHILDREN                                    [0, 1, 2, 3, 5, 4, 7, 6, 19, 12]\n",
       "FLAG_MOBIL                                                                [1, 0]\n",
       "FLAG_EMP_PHONE                                                            [0, 1]\n",
       "FLAG_WORK_PHONE                                                           [0, 1]\n",
       "FLAG_CONT_MOBILE                                                          [1, 0]\n",
       "FLAG_PHONE                                                                [0, 1]\n",
       "FLAG_EMAIL                                                                [0, 1]\n",
       "CNT_FAM_MEMBERS                [1.0, 3.0, 2.0, 4.0, 5.0, 7.0, 6.0, 8.0, 20.0,...\n",
       "REGION_RATING_CLIENT                                                   [2, 3, 1]\n",
       "REGION_RATING_CLIENT_W_CITY                                            [2, 3, 1]\n",
       "REG_REGION_NOT_LIVE_REGION                                                [0, 1]\n",
       "REG_REGION_NOT_WORK_REGION                                                [0, 1]\n",
       "LIVE_REGION_NOT_WORK_REGION                                               [0, 1]\n",
       "REG_CITY_NOT_LIVE_CITY                                                    [1, 0]\n",
       "REG_CITY_NOT_WORK_CITY                                                    [0, 1]\n",
       "LIVE_CITY_NOT_WORK_CITY                                                   [0, 1]\n",
       "FLAG_DOCUMENT_2                                                           [0, 1]\n",
       "FLAG_DOCUMENT_3                                                           [1, 0]\n",
       "FLAG_DOCUMENT_4                                                           [0, 1]\n",
       "FLAG_DOCUMENT_5                                                           [0, 1]\n",
       "FLAG_DOCUMENT_6                                                           [0, 1]\n",
       "FLAG_DOCUMENT_7                                                           [0, 1]\n",
       "FLAG_DOCUMENT_8                                                           [0, 1]\n",
       "FLAG_DOCUMENT_9                                                           [0, 1]\n",
       "FLAG_DOCUMENT_10                                                             [0]\n",
       "FLAG_DOCUMENT_11                                                          [0, 1]\n",
       "FLAG_DOCUMENT_12                                                             [0]\n",
       "FLAG_DOCUMENT_13                                                          [0, 1]\n",
       "FLAG_DOCUMENT_14                                                          [0, 1]\n",
       "FLAG_DOCUMENT_15                                                          [0, 1]\n",
       "FLAG_DOCUMENT_16                                                          [0, 1]\n",
       "FLAG_DOCUMENT_17                                                          [0, 1]\n",
       "FLAG_DOCUMENT_18                                                          [0, 1]\n",
       "FLAG_DOCUMENT_19                                                          [0, 1]\n",
       "FLAG_DOCUMENT_20                                                          [0, 1]\n",
       "FLAG_DOCUMENT_21                                                          [0, 1]\n",
       "dtype: object"
      ]
     },
     "execution_count": 51,
     "metadata": {},
     "output_type": "execute_result"
    }
   ],
   "source": [
    "var_discretes = df.nunique()[df.nunique()<25].index.tolist()\n",
    "var_discretes.remove('TARGET')\n",
    "var_discretes = [ var for var in var_discretes if var in df.select_dtypes(exclude=object).columns]\n",
    "var_discretes.remove('CHIDREN_RATE')\n",
    "var_discretes = [var_discretes[i] for i,x in enumerate((df[var_discretes].apply(lambda x: x%1!=0.0).sum()==0).values) if x]\n",
    "\n",
    "df.loc[:,var_discretes].apply(lambda x: x.unique())"
   ]
  },
  {
   "cell_type": "code",
   "execution_count": 12,
   "id": "4f505b0b",
   "metadata": {},
   "outputs": [
    {
     "data": {
      "text/plain": [
       "['CODE_GENDER',\n",
       " 'FLAG_OWN_CAR',\n",
       " 'FLAG_OWN_REALTY',\n",
       " 'CNT_CHILDREN',\n",
       " 'FLAG_MOBIL',\n",
       " 'FLAG_EMP_PHONE',\n",
       " 'FLAG_WORK_PHONE',\n",
       " 'FLAG_CONT_MOBILE',\n",
       " 'FLAG_PHONE',\n",
       " 'FLAG_EMAIL',\n",
       " 'CNT_FAM_MEMBERS',\n",
       " 'REGION_RATING_CLIENT',\n",
       " 'REGION_RATING_CLIENT_W_CITY',\n",
       " 'REG_REGION_NOT_LIVE_REGION',\n",
       " 'REG_REGION_NOT_WORK_REGION',\n",
       " 'LIVE_REGION_NOT_WORK_REGION',\n",
       " 'REG_CITY_NOT_LIVE_CITY',\n",
       " 'REG_CITY_NOT_WORK_CITY',\n",
       " 'LIVE_CITY_NOT_WORK_CITY',\n",
       " 'FLAG_DOCUMENT_2',\n",
       " 'FLAG_DOCUMENT_3',\n",
       " 'FLAG_DOCUMENT_4',\n",
       " 'FLAG_DOCUMENT_5',\n",
       " 'FLAG_DOCUMENT_6',\n",
       " 'FLAG_DOCUMENT_7',\n",
       " 'FLAG_DOCUMENT_8',\n",
       " 'FLAG_DOCUMENT_9',\n",
       " 'FLAG_DOCUMENT_10',\n",
       " 'FLAG_DOCUMENT_11',\n",
       " 'FLAG_DOCUMENT_12',\n",
       " 'FLAG_DOCUMENT_13',\n",
       " 'FLAG_DOCUMENT_14',\n",
       " 'FLAG_DOCUMENT_15',\n",
       " 'FLAG_DOCUMENT_16',\n",
       " 'FLAG_DOCUMENT_17',\n",
       " 'FLAG_DOCUMENT_18',\n",
       " 'FLAG_DOCUMENT_19',\n",
       " 'FLAG_DOCUMENT_20',\n",
       " 'FLAG_DOCUMENT_21']"
      ]
     },
     "execution_count": 12,
     "metadata": {},
     "output_type": "execute_result"
    }
   ],
   "source": [
    "var_discretes"
   ]
  },
  {
   "cell_type": "markdown",
   "id": "2fdb56a2",
   "metadata": {},
   "source": [
    "#### variables categotielles"
   ]
  },
  {
   "cell_type": "code",
   "execution_count": 89,
   "id": "8d757fca",
   "metadata": {},
   "outputs": [
    {
     "name": "stdout",
     "output_type": "stream",
     "text": [
      "NAME_CONTRACT_TYPE      2\n",
      "NAME_TYPE_SUITE         8\n",
      "NAME_INCOME_TYPE        6\n",
      "NAME_EDUCATION_TYPE     5\n",
      "NAME_FAMILY_STATUS      5\n",
      "NAME_HOUSING_TYPE       6\n",
      "OCCUPATION_TYPE        19\n",
      "ORGANIZATION_TYPE      57\n",
      "FONDKAPREMONT_MODE      5\n",
      "HOUSETYPE_MODE          4\n",
      "dtype: int64\n"
     ]
    }
   ],
   "source": [
    "print( df.select_dtypes(include=object).nunique() )\n",
    "var_cat = df.select_dtypes(include=object).nunique().index.tolist()"
   ]
  },
  {
   "cell_type": "code",
   "execution_count": 14,
   "id": "9702a918",
   "metadata": {},
   "outputs": [
    {
     "data": {
      "text/plain": [
       "['NAME_CONTRACT_TYPE',\n",
       " 'NAME_TYPE_SUITE',\n",
       " 'NAME_INCOME_TYPE',\n",
       " 'NAME_EDUCATION_TYPE',\n",
       " 'NAME_FAMILY_STATUS',\n",
       " 'NAME_HOUSING_TYPE',\n",
       " 'OCCUPATION_TYPE',\n",
       " 'ORGANIZATION_TYPE',\n",
       " 'FONDKAPREMONT_MODE',\n",
       " 'HOUSETYPE_MODE']"
      ]
     },
     "execution_count": 14,
     "metadata": {},
     "output_type": "execute_result"
    }
   ],
   "source": [
    "var_cat"
   ]
  },
  {
   "cell_type": "code",
   "execution_count": 15,
   "id": "c59ef130",
   "metadata": {},
   "outputs": [
    {
     "data": {
      "text/plain": [
       "NAME_CONTRACT_TYPE                         [Cash loans, Revolving loans]\n",
       "NAME_TYPE_SUITE        [Children, Family, Group of people, Other_A, O...\n",
       "NAME_INCOME_TYPE       [Businessman, Commercial associate, Pensioner,...\n",
       "NAME_EDUCATION_TYPE    [Academic degree, Higher education, Incomplete...\n",
       "NAME_FAMILY_STATUS     [Civil marriage, Married, Separated, Single / ...\n",
       "NAME_HOUSING_TYPE      [Co-op apartment, House / apartment, Municipal...\n",
       "OCCUPATION_TYPE        [Accountants, Cleaning staff, Cooking staff, C...\n",
       "ORGANIZATION_TYPE      [Advertising, Agriculture, Bank, Business Enti...\n",
       "FONDKAPREMONT_MODE     [XNA, not specified, org spec account, reg ope...\n",
       "HOUSETYPE_MODE         [XNA, block of flats, specific housing, terrac...\n",
       "dtype: object"
      ]
     },
     "execution_count": 15,
     "metadata": {},
     "output_type": "execute_result"
    }
   ],
   "source": [
    "df.loc[:,var_cat].apply(lambda x: np.unique(x) ) "
   ]
  },
  {
   "cell_type": "markdown",
   "id": "8519eeb1",
   "metadata": {},
   "source": [
    "#### variables numériques"
   ]
  },
  {
   "cell_type": "code",
   "execution_count": 408,
   "id": "4a18df90",
   "metadata": {},
   "outputs": [
    {
     "data": {
      "text/html": [
       "<div>\n",
       "<style scoped>\n",
       "    .dataframe tbody tr th:only-of-type {\n",
       "        vertical-align: middle;\n",
       "    }\n",
       "\n",
       "    .dataframe tbody tr th {\n",
       "        vertical-align: top;\n",
       "    }\n",
       "\n",
       "    .dataframe thead th {\n",
       "        text-align: right;\n",
       "    }\n",
       "</style>\n",
       "<table border=\"1\" class=\"dataframe\">\n",
       "  <thead>\n",
       "    <tr style=\"text-align: right;\">\n",
       "      <th></th>\n",
       "      <th>AMT_INCOME_TOTAL</th>\n",
       "      <th>AMT_CREDIT</th>\n",
       "      <th>AMT_ANNUITY</th>\n",
       "      <th>AMT_GOODS_PRICE</th>\n",
       "      <th>REGION_POPULATION_RELATIVE</th>\n",
       "      <th>DAYS_BIRTH</th>\n",
       "      <th>DAYS_EMPLOYED</th>\n",
       "      <th>DAYS_REGISTRATION</th>\n",
       "      <th>DAYS_ID_PUBLISH</th>\n",
       "      <th>EXT_SOURCE_2</th>\n",
       "      <th>EXT_SOURCE_3</th>\n",
       "      <th>OBS_30_CNT_SOCIAL_CIRCLE</th>\n",
       "      <th>DEF_30_CNT_SOCIAL_CIRCLE</th>\n",
       "      <th>OBS_60_CNT_SOCIAL_CIRCLE</th>\n",
       "      <th>DEF_60_CNT_SOCIAL_CIRCLE</th>\n",
       "      <th>DAYS_LAST_PHONE_CHANGE</th>\n",
       "      <th>AMT_REQ_CREDIT_BUREAU_HOUR</th>\n",
       "      <th>AMT_REQ_CREDIT_BUREAU_DAY</th>\n",
       "      <th>AMT_REQ_CREDIT_BUREAU_WEEK</th>\n",
       "      <th>AMT_REQ_CREDIT_BUREAU_MON</th>\n",
       "      <th>AMT_REQ_CREDIT_BUREAU_QRT</th>\n",
       "      <th>AMT_REQ_CREDIT_BUREAU_YEAR</th>\n",
       "      <th>DAYS_EMPLOYED_PERC</th>\n",
       "      <th>INCOME_CREDIT_PERC</th>\n",
       "      <th>INCOME_PER_PERSON</th>\n",
       "      <th>ANNUITY_INCOME_PERC</th>\n",
       "      <th>PAYMENT_RATE</th>\n",
       "      <th>INCOME_PER_CHILDREN</th>\n",
       "      <th>CHIDREN_RATE</th>\n",
       "      <th>BURO_DAYS_CREDIT_MAX</th>\n",
       "      <th>BURO_DAYS_CREDIT_MEAN</th>\n",
       "      <th>BURO_DAYS_CREDIT_ENDDATE_MAX</th>\n",
       "      <th>BURO_DAYS_CREDIT_ENDDATE_MEAN</th>\n",
       "      <th>BURO_CREDIT_DAY_OVERDUE_MAX</th>\n",
       "      <th>BURO_CREDIT_DAY_OVERDUE_MEAN</th>\n",
       "      <th>BURO_AMT_CREDIT_SUM_MAX</th>\n",
       "      <th>BURO_AMT_CREDIT_SUM_MEAN</th>\n",
       "      <th>BURO_AMT_CREDIT_SUM_SUM</th>\n",
       "      <th>BURO_AMT_CREDIT_SUM_DEBT_MAX</th>\n",
       "      <th>BURO_AMT_CREDIT_SUM_DEBT_MEAN</th>\n",
       "      <th>BURO_AMT_CREDIT_SUM_DEBT_SUM</th>\n",
       "      <th>BURO_AMT_CREDIT_SUM_OVERDUE_MEAN</th>\n",
       "      <th>BURO_AMT_CREDIT_SUM_LIMIT_SUM</th>\n",
       "      <th>BURO_CREDIT_ACTIVE_Closed_MEAN</th>\n",
       "      <th>BURO_CREDIT_ACTIVE_Sold_MEAN</th>\n",
       "      <th>BURO_CREDIT_CURRENCY_currency 3_MEAN</th>\n",
       "      <th>BURO_CREDIT_TYPE_Microloan_MEAN</th>\n",
       "      <th>PREV_AMT_ANNUITY_MIN</th>\n",
       "      <th>PREV_AMT_ANNUITY_MAX</th>\n",
       "      <th>PREV_AMT_ANNUITY_MEAN</th>\n",
       "      <th>PREV_AMT_APPLICATION_MIN</th>\n",
       "      <th>PREV_AMT_CREDIT_MIN</th>\n",
       "      <th>PREV_AMT_CREDIT_MAX</th>\n",
       "      <th>PREV_AMT_CREDIT_MEAN</th>\n",
       "      <th>PREV_APP_CREDIT_PERC_MIN</th>\n",
       "      <th>PREV_APP_CREDIT_PERC_MAX</th>\n",
       "      <th>PREV_APP_CREDIT_PERC_MEAN</th>\n",
       "      <th>PREV_AMT_DOWN_PAYMENT_MIN</th>\n",
       "      <th>PREV_AMT_DOWN_PAYMENT_MEAN</th>\n",
       "      <th>PREV_AMT_GOODS_PRICE_MIN</th>\n",
       "      <th>PREV_AMT_GOODS_PRICE_MEAN</th>\n",
       "      <th>PREV_HOUR_APPR_PROCESS_START_MIN</th>\n",
       "      <th>PREV_HOUR_APPR_PROCESS_START_MEAN</th>\n",
       "      <th>PREV_DAYS_DECISION_MIN</th>\n",
       "      <th>PREV_DAYS_DECISION_MAX</th>\n",
       "      <th>PREV_DAYS_DECISION_MEAN</th>\n",
       "      <th>PREV_CNT_PAYMENT_SUM</th>\n",
       "      <th>PREV_FLAG_LAST_APPL_PER_CONTRACT_N_MEAN</th>\n",
       "      <th>PREV_FLAG_LAST_APPL_PER_CONTRACT_Y_MEAN</th>\n",
       "      <th>PREV_NAME_CASH_LOAN_PURPOSE_Business development_MEAN</th>\n",
       "      <th>PREV_NAME_CASH_LOAN_PURPOSE_Car repairs_MEAN</th>\n",
       "      <th>PREV_NAME_CASH_LOAN_PURPOSE_Medicine_MEAN</th>\n",
       "      <th>PREV_NAME_CASH_LOAN_PURPOSE_Other_MEAN</th>\n",
       "      <th>PREV_NAME_CASH_LOAN_PURPOSE_Repairs_MEAN</th>\n",
       "      <th>PREV_NAME_CASH_LOAN_PURPOSE_Urgent needs_MEAN</th>\n",
       "      <th>PREV_NAME_CONTRACT_STATUS_Approved_MEAN</th>\n",
       "      <th>PREV_NAME_CONTRACT_STATUS_Refused_MEAN</th>\n",
       "      <th>PREV_NAME_PAYMENT_TYPE_Cash through the bank_MEAN</th>\n",
       "      <th>PREV_NAME_PAYMENT_TYPE_XNA_MEAN</th>\n",
       "      <th>PREV_CODE_REJECT_REASON_HC_MEAN</th>\n",
       "      <th>PREV_CODE_REJECT_REASON_SCOFR_MEAN</th>\n",
       "      <th>PREV_CODE_REJECT_REASON_XAP_MEAN</th>\n",
       "      <th>PREV_NAME_GOODS_CATEGORY_Construction Materials_MEAN</th>\n",
       "      <th>PREV_NAME_GOODS_CATEGORY_Tourism_MEAN</th>\n",
       "      <th>PREV_NAME_PORTFOLIO_Cars_MEAN</th>\n",
       "      <th>PREV_NAME_PORTFOLIO_XNA_MEAN</th>\n",
       "      <th>PREV_NAME_PRODUCT_TYPE_walk-in_MEAN</th>\n",
       "      <th>PREV_CHANNEL_TYPE_AP+ (Cash loan)_MEAN</th>\n",
       "      <th>PREV_CHANNEL_TYPE_Car dealer_MEAN</th>\n",
       "      <th>PREV_CHANNEL_TYPE_Contact center_MEAN</th>\n",
       "      <th>PREV_CHANNEL_TYPE_Credit and cash offices_MEAN</th>\n",
       "      <th>PREV_NAME_SELLER_INDUSTRY_XNA_MEAN</th>\n",
       "      <th>PREV_NAME_YIELD_GROUP_XNA_MEAN</th>\n",
       "      <th>PREV_NAME_YIELD_GROUP_high_MEAN</th>\n",
       "      <th>PREV_PRODUCT_COMBINATION_Card Street_MEAN</th>\n",
       "      <th>PREV_PRODUCT_COMBINATION_Cash Street: middle_MEAN</th>\n",
       "      <th>PREV_PRODUCT_COMBINATION_POS industry with interest_MEAN</th>\n",
       "      <th>PREV_PRODUCT_COMBINATION_POS mobile with interest_MEAN</th>\n",
       "      <th>APPROVED_AMT_ANNUITY_MEAN</th>\n",
       "      <th>APPROVED_APP_CREDIT_PERC_MAX</th>\n",
       "      <th>APPROVED_AMT_DOWN_PAYMENT_MAX</th>\n",
       "      <th>APPROVED_AMT_DOWN_PAYMENT_MEAN</th>\n",
       "      <th>APPROVED_AMT_GOODS_PRICE_MIN</th>\n",
       "      <th>APPROVED_AMT_GOODS_PRICE_MEAN</th>\n",
       "      <th>APPROVED_HOUR_APPR_PROCESS_START_MIN</th>\n",
       "      <th>APPROVED_HOUR_APPR_PROCESS_START_MEAN</th>\n",
       "      <th>APPROVED_DAYS_DECISION_MIN</th>\n",
       "      <th>APPROVED_DAYS_DECISION_MEAN</th>\n",
       "      <th>POS_MONTHS_BALANCE_MAX</th>\n",
       "      <th>POS_MONTHS_BALANCE_MEAN</th>\n",
       "      <th>POS_MONTHS_BALANCE_SIZE</th>\n",
       "      <th>POS_SK_DPD_MEAN</th>\n",
       "      <th>POS_SK_DPD_DEF_MAX</th>\n",
       "      <th>POS_SK_DPD_DEF_MEAN</th>\n",
       "      <th>POS_NAME_CONTRACT_STATUS_Demand_MEAN</th>\n",
       "      <th>POS_NAME_CONTRACT_STATUS_Returned to the store_MEAN</th>\n",
       "      <th>INSTAL_DPD_MAX</th>\n",
       "      <th>INSTAL_DPD_MEAN</th>\n",
       "      <th>INSTAL_PAYMENT_PERC_MAX</th>\n",
       "      <th>INSTAL_PAYMENT_PERC_MEAN</th>\n",
       "      <th>INSTAL_PAYMENT_PERC_SUM</th>\n",
       "      <th>INSTAL_PAYMENT_PERC_VAR</th>\n",
       "      <th>INSTAL_PAYMENT_DIFF_MEAN</th>\n",
       "      <th>INSTAL_PAYMENT_DIFF_VAR</th>\n",
       "      <th>INSTAL_AMT_PAYMENT_MIN</th>\n",
       "      <th>INSTAL_AMT_PAYMENT_MEAN</th>\n",
       "      <th>INSTAL_AMT_PAYMENT_SUM</th>\n",
       "      <th>INSTAL_DAYS_ENTRY_PAYMENT_MAX</th>\n",
       "      <th>INSTAL_DAYS_ENTRY_PAYMENT_MEAN</th>\n",
       "    </tr>\n",
       "  </thead>\n",
       "  <tbody>\n",
       "    <tr>\n",
       "      <th>108169</th>\n",
       "      <td>112500.0</td>\n",
       "      <td>916470.0</td>\n",
       "      <td>32598.0</td>\n",
       "      <td>765000.0</td>\n",
       "      <td>0.010643</td>\n",
       "      <td>-15696</td>\n",
       "      <td>-547.0</td>\n",
       "      <td>-878.0</td>\n",
       "      <td>-2109</td>\n",
       "      <td>0.497886</td>\n",
       "      <td>0.129314</td>\n",
       "      <td>4.0</td>\n",
       "      <td>0.0</td>\n",
       "      <td>4.0</td>\n",
       "      <td>0.0</td>\n",
       "      <td>-435.0</td>\n",
       "      <td>0.0</td>\n",
       "      <td>0.0</td>\n",
       "      <td>0.0</td>\n",
       "      <td>0.0</td>\n",
       "      <td>0.0</td>\n",
       "      <td>3.0</td>\n",
       "      <td>0.034850</td>\n",
       "      <td>0.122754</td>\n",
       "      <td>37500.0</td>\n",
       "      <td>0.289760</td>\n",
       "      <td>0.035569</td>\n",
       "      <td>56250.0</td>\n",
       "      <td>0.333333</td>\n",
       "      <td>-245.0</td>\n",
       "      <td>-396.500</td>\n",
       "      <td>1339.0</td>\n",
       "      <td>888.750000</td>\n",
       "      <td>0.0</td>\n",
       "      <td>0.0</td>\n",
       "      <td>765000.0</td>\n",
       "      <td>425113.875</td>\n",
       "      <td>1700455.5</td>\n",
       "      <td>533458.755</td>\n",
       "      <td>272216.68875</td>\n",
       "      <td>1088866.755</td>\n",
       "      <td>0.0</td>\n",
       "      <td>231541.245</td>\n",
       "      <td>0.000</td>\n",
       "      <td>0.0</td>\n",
       "      <td>0.0</td>\n",
       "      <td>0.0</td>\n",
       "      <td>2250.00</td>\n",
       "      <td>12156.66</td>\n",
       "      <td>6279.165</td>\n",
       "      <td>0.0</td>\n",
       "      <td>0.0</td>\n",
       "      <td>135000.0</td>\n",
       "      <td>56909.25</td>\n",
       "      <td>1.000000</td>\n",
       "      <td>1.000000</td>\n",
       "      <td>1.000000</td>\n",
       "      <td>0.0</td>\n",
       "      <td>0.0</td>\n",
       "      <td>36000.0</td>\n",
       "      <td>85363.875</td>\n",
       "      <td>10.0</td>\n",
       "      <td>12.0</td>\n",
       "      <td>-435.0</td>\n",
       "      <td>-215.0</td>\n",
       "      <td>-307.333333</td>\n",
       "      <td>22.0</td>\n",
       "      <td>0.0</td>\n",
       "      <td>1.0</td>\n",
       "      <td>0.0</td>\n",
       "      <td>0.0</td>\n",
       "      <td>0.0</td>\n",
       "      <td>0.0</td>\n",
       "      <td>0.0</td>\n",
       "      <td>0.0</td>\n",
       "      <td>0.333333</td>\n",
       "      <td>0.333333</td>\n",
       "      <td>0.166667</td>\n",
       "      <td>0.833333</td>\n",
       "      <td>0.0</td>\n",
       "      <td>0.0</td>\n",
       "      <td>0.666667</td>\n",
       "      <td>0.0</td>\n",
       "      <td>0.0</td>\n",
       "      <td>0.0</td>\n",
       "      <td>0.333333</td>\n",
       "      <td>0.166667</td>\n",
       "      <td>0.0</td>\n",
       "      <td>0.0</td>\n",
       "      <td>0.0</td>\n",
       "      <td>0.666667</td>\n",
       "      <td>0.666667</td>\n",
       "      <td>0.666667</td>\n",
       "      <td>0.0</td>\n",
       "      <td>0.5</td>\n",
       "      <td>0.0</td>\n",
       "      <td>0.0</td>\n",
       "      <td>0.0</td>\n",
       "      <td>5355.00</td>\n",
       "      <td>1.000000</td>\n",
       "      <td>0.0</td>\n",
       "      <td>0.0</td>\n",
       "      <td>36000.0</td>\n",
       "      <td>85500.0</td>\n",
       "      <td>10.0</td>\n",
       "      <td>10.5</td>\n",
       "      <td>-435.0</td>\n",
       "      <td>-325.0</td>\n",
       "      <td>-4.0</td>\n",
       "      <td>-9.0</td>\n",
       "      <td>11.0</td>\n",
       "      <td>0.0</td>\n",
       "      <td>0.0</td>\n",
       "      <td>0.0</td>\n",
       "      <td>0.0</td>\n",
       "      <td>0.0</td>\n",
       "      <td>0.0</td>\n",
       "      <td>0.0</td>\n",
       "      <td>1.0</td>\n",
       "      <td>1.0</td>\n",
       "      <td>22.0</td>\n",
       "      <td>0.0</td>\n",
       "      <td>0.0</td>\n",
       "      <td>0.0</td>\n",
       "      <td>34.605</td>\n",
       "      <td>3743.085682</td>\n",
       "      <td>82347.885</td>\n",
       "      <td>-17.0</td>\n",
       "      <td>-176.0</td>\n",
       "    </tr>\n",
       "    <tr>\n",
       "      <th>5695</th>\n",
       "      <td>202500.0</td>\n",
       "      <td>545040.0</td>\n",
       "      <td>25537.5</td>\n",
       "      <td>450000.0</td>\n",
       "      <td>0.018801</td>\n",
       "      <td>-10481</td>\n",
       "      <td>-2769.0</td>\n",
       "      <td>-10481.0</td>\n",
       "      <td>-2831</td>\n",
       "      <td>0.274733</td>\n",
       "      <td>0.517297</td>\n",
       "      <td>0.0</td>\n",
       "      <td>0.0</td>\n",
       "      <td>0.0</td>\n",
       "      <td>0.0</td>\n",
       "      <td>-1453.0</td>\n",
       "      <td>0.0</td>\n",
       "      <td>0.0</td>\n",
       "      <td>0.0</td>\n",
       "      <td>1.0</td>\n",
       "      <td>0.0</td>\n",
       "      <td>1.0</td>\n",
       "      <td>0.264192</td>\n",
       "      <td>0.371532</td>\n",
       "      <td>101250.0</td>\n",
       "      <td>0.126111</td>\n",
       "      <td>0.046854</td>\n",
       "      <td>202500.0</td>\n",
       "      <td>0.000000</td>\n",
       "      <td>-250.0</td>\n",
       "      <td>-1275.875</td>\n",
       "      <td>1561.0</td>\n",
       "      <td>-586.857143</td>\n",
       "      <td>0.0</td>\n",
       "      <td>0.0</td>\n",
       "      <td>2925000.0</td>\n",
       "      <td>927373.500</td>\n",
       "      <td>7418988.0</td>\n",
       "      <td>2727531.000</td>\n",
       "      <td>582084.56250</td>\n",
       "      <td>4656676.500</td>\n",
       "      <td>0.0</td>\n",
       "      <td>0.000</td>\n",
       "      <td>0.625</td>\n",
       "      <td>0.0</td>\n",
       "      <td>0.0</td>\n",
       "      <td>0.0</td>\n",
       "      <td>16796.43</td>\n",
       "      <td>16796.43</td>\n",
       "      <td>16796.430</td>\n",
       "      <td>130032.0</td>\n",
       "      <td>131017.5</td>\n",
       "      <td>131017.5</td>\n",
       "      <td>131017.50</td>\n",
       "      <td>0.992478</td>\n",
       "      <td>0.992478</td>\n",
       "      <td>0.992478</td>\n",
       "      <td>9000.0</td>\n",
       "      <td>9000.0</td>\n",
       "      <td>130032.0</td>\n",
       "      <td>130032.000</td>\n",
       "      <td>16.0</td>\n",
       "      <td>16.0</td>\n",
       "      <td>-1453.0</td>\n",
       "      <td>-1453.0</td>\n",
       "      <td>-1453.000000</td>\n",
       "      <td>10.0</td>\n",
       "      <td>0.0</td>\n",
       "      <td>1.0</td>\n",
       "      <td>0.0</td>\n",
       "      <td>0.0</td>\n",
       "      <td>0.0</td>\n",
       "      <td>0.0</td>\n",
       "      <td>0.0</td>\n",
       "      <td>0.0</td>\n",
       "      <td>1.000000</td>\n",
       "      <td>0.000000</td>\n",
       "      <td>1.000000</td>\n",
       "      <td>0.000000</td>\n",
       "      <td>0.0</td>\n",
       "      <td>0.0</td>\n",
       "      <td>1.000000</td>\n",
       "      <td>0.0</td>\n",
       "      <td>0.0</td>\n",
       "      <td>0.0</td>\n",
       "      <td>0.000000</td>\n",
       "      <td>0.000000</td>\n",
       "      <td>0.0</td>\n",
       "      <td>0.0</td>\n",
       "      <td>0.0</td>\n",
       "      <td>0.000000</td>\n",
       "      <td>0.000000</td>\n",
       "      <td>0.000000</td>\n",
       "      <td>1.0</td>\n",
       "      <td>0.0</td>\n",
       "      <td>0.0</td>\n",
       "      <td>0.0</td>\n",
       "      <td>0.0</td>\n",
       "      <td>16796.43</td>\n",
       "      <td>0.992478</td>\n",
       "      <td>9000.0</td>\n",
       "      <td>9000.0</td>\n",
       "      <td>130032.0</td>\n",
       "      <td>130032.0</td>\n",
       "      <td>16.0</td>\n",
       "      <td>16.0</td>\n",
       "      <td>-1453.0</td>\n",
       "      <td>-1453.0</td>\n",
       "      <td>-38.0</td>\n",
       "      <td>-43.0</td>\n",
       "      <td>11.0</td>\n",
       "      <td>0.0</td>\n",
       "      <td>0.0</td>\n",
       "      <td>0.0</td>\n",
       "      <td>0.0</td>\n",
       "      <td>0.0</td>\n",
       "      <td>0.0</td>\n",
       "      <td>0.0</td>\n",
       "      <td>1.0</td>\n",
       "      <td>1.0</td>\n",
       "      <td>10.0</td>\n",
       "      <td>0.0</td>\n",
       "      <td>0.0</td>\n",
       "      <td>0.0</td>\n",
       "      <td>16796.430</td>\n",
       "      <td>16796.983500</td>\n",
       "      <td>167969.835</td>\n",
       "      <td>-1173.0</td>\n",
       "      <td>-1307.1</td>\n",
       "    </tr>\n",
       "  </tbody>\n",
       "</table>\n",
       "</div>"
      ],
      "text/plain": [
       "        AMT_INCOME_TOTAL  AMT_CREDIT  AMT_ANNUITY  AMT_GOODS_PRICE  REGION_POPULATION_RELATIVE  DAYS_BIRTH  DAYS_EMPLOYED  DAYS_REGISTRATION  DAYS_ID_PUBLISH  EXT_SOURCE_2  EXT_SOURCE_3  OBS_30_CNT_SOCIAL_CIRCLE  DEF_30_CNT_SOCIAL_CIRCLE  OBS_60_CNT_SOCIAL_CIRCLE  DEF_60_CNT_SOCIAL_CIRCLE  DAYS_LAST_PHONE_CHANGE  AMT_REQ_CREDIT_BUREAU_HOUR  AMT_REQ_CREDIT_BUREAU_DAY  AMT_REQ_CREDIT_BUREAU_WEEK  AMT_REQ_CREDIT_BUREAU_MON  AMT_REQ_CREDIT_BUREAU_QRT  AMT_REQ_CREDIT_BUREAU_YEAR  DAYS_EMPLOYED_PERC  INCOME_CREDIT_PERC  INCOME_PER_PERSON  ANNUITY_INCOME_PERC  PAYMENT_RATE  INCOME_PER_CHILDREN  CHIDREN_RATE  BURO_DAYS_CREDIT_MAX  BURO_DAYS_CREDIT_MEAN  BURO_DAYS_CREDIT_ENDDATE_MAX  BURO_DAYS_CREDIT_ENDDATE_MEAN  BURO_CREDIT_DAY_OVERDUE_MAX  BURO_CREDIT_DAY_OVERDUE_MEAN  BURO_AMT_CREDIT_SUM_MAX  BURO_AMT_CREDIT_SUM_MEAN  BURO_AMT_CREDIT_SUM_SUM  BURO_AMT_CREDIT_SUM_DEBT_MAX  BURO_AMT_CREDIT_SUM_DEBT_MEAN  BURO_AMT_CREDIT_SUM_DEBT_SUM  BURO_AMT_CREDIT_SUM_OVERDUE_MEAN  BURO_AMT_CREDIT_SUM_LIMIT_SUM  BURO_CREDIT_ACTIVE_Closed_MEAN  BURO_CREDIT_ACTIVE_Sold_MEAN  BURO_CREDIT_CURRENCY_currency 3_MEAN  BURO_CREDIT_TYPE_Microloan_MEAN  PREV_AMT_ANNUITY_MIN  PREV_AMT_ANNUITY_MAX  PREV_AMT_ANNUITY_MEAN  PREV_AMT_APPLICATION_MIN  PREV_AMT_CREDIT_MIN  PREV_AMT_CREDIT_MAX  PREV_AMT_CREDIT_MEAN  PREV_APP_CREDIT_PERC_MIN  PREV_APP_CREDIT_PERC_MAX  PREV_APP_CREDIT_PERC_MEAN  PREV_AMT_DOWN_PAYMENT_MIN  PREV_AMT_DOWN_PAYMENT_MEAN  PREV_AMT_GOODS_PRICE_MIN  PREV_AMT_GOODS_PRICE_MEAN  PREV_HOUR_APPR_PROCESS_START_MIN  PREV_HOUR_APPR_PROCESS_START_MEAN  PREV_DAYS_DECISION_MIN  PREV_DAYS_DECISION_MAX  PREV_DAYS_DECISION_MEAN  PREV_CNT_PAYMENT_SUM  PREV_FLAG_LAST_APPL_PER_CONTRACT_N_MEAN  PREV_FLAG_LAST_APPL_PER_CONTRACT_Y_MEAN  PREV_NAME_CASH_LOAN_PURPOSE_Business development_MEAN  PREV_NAME_CASH_LOAN_PURPOSE_Car repairs_MEAN  PREV_NAME_CASH_LOAN_PURPOSE_Medicine_MEAN  PREV_NAME_CASH_LOAN_PURPOSE_Other_MEAN  PREV_NAME_CASH_LOAN_PURPOSE_Repairs_MEAN  PREV_NAME_CASH_LOAN_PURPOSE_Urgent needs_MEAN  PREV_NAME_CONTRACT_STATUS_Approved_MEAN  PREV_NAME_CONTRACT_STATUS_Refused_MEAN  PREV_NAME_PAYMENT_TYPE_Cash through the bank_MEAN  PREV_NAME_PAYMENT_TYPE_XNA_MEAN  PREV_CODE_REJECT_REASON_HC_MEAN  PREV_CODE_REJECT_REASON_SCOFR_MEAN  PREV_CODE_REJECT_REASON_XAP_MEAN  PREV_NAME_GOODS_CATEGORY_Construction Materials_MEAN  PREV_NAME_GOODS_CATEGORY_Tourism_MEAN  PREV_NAME_PORTFOLIO_Cars_MEAN  PREV_NAME_PORTFOLIO_XNA_MEAN  PREV_NAME_PRODUCT_TYPE_walk-in_MEAN  PREV_CHANNEL_TYPE_AP+ (Cash loan)_MEAN  PREV_CHANNEL_TYPE_Car dealer_MEAN  PREV_CHANNEL_TYPE_Contact center_MEAN  PREV_CHANNEL_TYPE_Credit and cash offices_MEAN  PREV_NAME_SELLER_INDUSTRY_XNA_MEAN  PREV_NAME_YIELD_GROUP_XNA_MEAN  PREV_NAME_YIELD_GROUP_high_MEAN  PREV_PRODUCT_COMBINATION_Card Street_MEAN  PREV_PRODUCT_COMBINATION_Cash Street: middle_MEAN  PREV_PRODUCT_COMBINATION_POS industry with interest_MEAN  PREV_PRODUCT_COMBINATION_POS mobile with interest_MEAN  APPROVED_AMT_ANNUITY_MEAN  APPROVED_APP_CREDIT_PERC_MAX  APPROVED_AMT_DOWN_PAYMENT_MAX  APPROVED_AMT_DOWN_PAYMENT_MEAN  APPROVED_AMT_GOODS_PRICE_MIN  APPROVED_AMT_GOODS_PRICE_MEAN  APPROVED_HOUR_APPR_PROCESS_START_MIN  APPROVED_HOUR_APPR_PROCESS_START_MEAN  APPROVED_DAYS_DECISION_MIN  APPROVED_DAYS_DECISION_MEAN  POS_MONTHS_BALANCE_MAX  POS_MONTHS_BALANCE_MEAN  POS_MONTHS_BALANCE_SIZE  POS_SK_DPD_MEAN  POS_SK_DPD_DEF_MAX  POS_SK_DPD_DEF_MEAN  POS_NAME_CONTRACT_STATUS_Demand_MEAN  POS_NAME_CONTRACT_STATUS_Returned to the store_MEAN  INSTAL_DPD_MAX  INSTAL_DPD_MEAN  INSTAL_PAYMENT_PERC_MAX  INSTAL_PAYMENT_PERC_MEAN  INSTAL_PAYMENT_PERC_SUM  INSTAL_PAYMENT_PERC_VAR  INSTAL_PAYMENT_DIFF_MEAN  INSTAL_PAYMENT_DIFF_VAR  INSTAL_AMT_PAYMENT_MIN  INSTAL_AMT_PAYMENT_MEAN  INSTAL_AMT_PAYMENT_SUM  INSTAL_DAYS_ENTRY_PAYMENT_MAX  INSTAL_DAYS_ENTRY_PAYMENT_MEAN\n",
       "108169          112500.0    916470.0      32598.0         765000.0                    0.010643      -15696         -547.0             -878.0            -2109      0.497886      0.129314                       4.0                       0.0                       4.0                       0.0                  -435.0                         0.0                        0.0                         0.0                        0.0                        0.0                         3.0            0.034850            0.122754            37500.0             0.289760      0.035569              56250.0      0.333333                -245.0               -396.500                        1339.0                     888.750000                          0.0                           0.0                 765000.0                425113.875                1700455.5                    533458.755                   272216.68875                   1088866.755                               0.0                     231541.245                           0.000                           0.0                                   0.0                              0.0               2250.00              12156.66               6279.165                       0.0                  0.0             135000.0              56909.25                  1.000000                  1.000000                   1.000000                        0.0                         0.0                   36000.0                  85363.875                              10.0                               12.0                  -435.0                  -215.0              -307.333333                  22.0                                      0.0                                      1.0                                                0.0                                               0.0                                        0.0                                     0.0                                       0.0                                            0.0                                 0.333333                                0.333333                                           0.166667                         0.833333                              0.0                                 0.0                          0.666667                                                0.0                                       0.0                            0.0                      0.333333                             0.166667                                     0.0                                0.0                                    0.0                                        0.666667                            0.666667                        0.666667                              0.0                                        0.5                                                0.0                                                0.0                                                       0.0                         5355.00                      1.000000                            0.0                             0.0                       36000.0                        85500.0                                  10.0                                   10.5                      -435.0                       -325.0                    -4.0                     -9.0                     11.0              0.0                 0.0                  0.0                                   0.0                                                0.0               0.0              0.0                      1.0                       1.0                     22.0                      0.0                       0.0                      0.0                  34.605              3743.085682               82347.885                          -17.0                          -176.0\n",
       "5695            202500.0    545040.0      25537.5         450000.0                    0.018801      -10481        -2769.0           -10481.0            -2831      0.274733      0.517297                       0.0                       0.0                       0.0                       0.0                 -1453.0                         0.0                        0.0                         0.0                        1.0                        0.0                         1.0            0.264192            0.371532           101250.0             0.126111      0.046854             202500.0      0.000000                -250.0              -1275.875                        1561.0                    -586.857143                          0.0                           0.0                2925000.0                927373.500                7418988.0                   2727531.000                   582084.56250                   4656676.500                               0.0                          0.000                           0.625                           0.0                                   0.0                              0.0              16796.43              16796.43              16796.430                  130032.0             131017.5             131017.5             131017.50                  0.992478                  0.992478                   0.992478                     9000.0                      9000.0                  130032.0                 130032.000                              16.0                               16.0                 -1453.0                 -1453.0             -1453.000000                  10.0                                      0.0                                      1.0                                                0.0                                               0.0                                        0.0                                     0.0                                       0.0                                            0.0                                 1.000000                                0.000000                                           1.000000                         0.000000                              0.0                                 0.0                          1.000000                                                0.0                                       0.0                            0.0                      0.000000                             0.000000                                     0.0                                0.0                                    0.0                                        0.000000                            0.000000                        0.000000                              1.0                                        0.0                                                0.0                                                0.0                                                       0.0                        16796.43                      0.992478                         9000.0                          9000.0                      130032.0                       130032.0                                  16.0                                   16.0                     -1453.0                      -1453.0                   -38.0                    -43.0                     11.0              0.0                 0.0                  0.0                                   0.0                                                0.0               0.0              0.0                      1.0                       1.0                     10.0                      0.0                       0.0                      0.0               16796.430             16796.983500              167969.835                        -1173.0                         -1307.1"
      ]
     },
     "execution_count": 408,
     "metadata": {},
     "output_type": "execute_result"
    }
   ],
   "source": [
    "var_num = [x for x in df.columns if x not in var_cat and x not in var_discretes]\n",
    "var_num.remove('SK_ID_CURR') \n",
    "var_num.remove('TARGET')\n",
    "#var_num.append( 'CHIDREN_RATE' )\n",
    "df.loc[:,var_num].apply(lambda x: x.iloc[[5,1000]] )"
   ]
  },
  {
   "cell_type": "code",
   "execution_count": 388,
   "id": "6da8c68b",
   "metadata": {},
   "outputs": [
    {
     "data": {
      "text/plain": [
       "['AMT_INCOME_TOTAL',\n",
       " 'AMT_CREDIT',\n",
       " 'AMT_ANNUITY',\n",
       " 'AMT_GOODS_PRICE',\n",
       " 'REGION_POPULATION_RELATIVE',\n",
       " 'DAYS_BIRTH',\n",
       " 'DAYS_EMPLOYED',\n",
       " 'DAYS_REGISTRATION',\n",
       " 'DAYS_ID_PUBLISH',\n",
       " 'EXT_SOURCE_2',\n",
       " 'EXT_SOURCE_3',\n",
       " 'OBS_30_CNT_SOCIAL_CIRCLE',\n",
       " 'DEF_30_CNT_SOCIAL_CIRCLE',\n",
       " 'OBS_60_CNT_SOCIAL_CIRCLE',\n",
       " 'DEF_60_CNT_SOCIAL_CIRCLE',\n",
       " 'DAYS_LAST_PHONE_CHANGE',\n",
       " 'AMT_REQ_CREDIT_BUREAU_HOUR',\n",
       " 'AMT_REQ_CREDIT_BUREAU_DAY',\n",
       " 'AMT_REQ_CREDIT_BUREAU_WEEK',\n",
       " 'AMT_REQ_CREDIT_BUREAU_MON',\n",
       " 'AMT_REQ_CREDIT_BUREAU_QRT',\n",
       " 'AMT_REQ_CREDIT_BUREAU_YEAR',\n",
       " 'DAYS_EMPLOYED_PERC',\n",
       " 'INCOME_CREDIT_PERC',\n",
       " 'INCOME_PER_PERSON',\n",
       " 'ANNUITY_INCOME_PERC',\n",
       " 'PAYMENT_RATE',\n",
       " 'INCOME_PER_CHILDREN',\n",
       " 'CHIDREN_RATE',\n",
       " 'BURO_DAYS_CREDIT_MAX',\n",
       " 'BURO_DAYS_CREDIT_MEAN',\n",
       " 'BURO_DAYS_CREDIT_ENDDATE_MAX',\n",
       " 'BURO_DAYS_CREDIT_ENDDATE_MEAN',\n",
       " 'BURO_CREDIT_DAY_OVERDUE_MAX',\n",
       " 'BURO_CREDIT_DAY_OVERDUE_MEAN',\n",
       " 'BURO_AMT_CREDIT_SUM_MAX',\n",
       " 'BURO_AMT_CREDIT_SUM_MEAN',\n",
       " 'BURO_AMT_CREDIT_SUM_SUM',\n",
       " 'BURO_AMT_CREDIT_SUM_DEBT_MAX',\n",
       " 'BURO_AMT_CREDIT_SUM_DEBT_MEAN',\n",
       " 'BURO_AMT_CREDIT_SUM_DEBT_SUM',\n",
       " 'BURO_AMT_CREDIT_SUM_OVERDUE_MEAN',\n",
       " 'BURO_AMT_CREDIT_SUM_LIMIT_SUM',\n",
       " 'BURO_CREDIT_ACTIVE_Closed_MEAN',\n",
       " 'BURO_CREDIT_ACTIVE_Sold_MEAN',\n",
       " 'BURO_CREDIT_CURRENCY_currency 3_MEAN',\n",
       " 'BURO_CREDIT_TYPE_Microloan_MEAN',\n",
       " 'PREV_AMT_ANNUITY_MIN',\n",
       " 'PREV_AMT_ANNUITY_MAX',\n",
       " 'PREV_AMT_ANNUITY_MEAN',\n",
       " 'PREV_AMT_APPLICATION_MIN',\n",
       " 'PREV_AMT_CREDIT_MIN',\n",
       " 'PREV_AMT_CREDIT_MAX',\n",
       " 'PREV_AMT_CREDIT_MEAN',\n",
       " 'PREV_APP_CREDIT_PERC_MIN',\n",
       " 'PREV_APP_CREDIT_PERC_MAX',\n",
       " 'PREV_APP_CREDIT_PERC_MEAN',\n",
       " 'PREV_AMT_DOWN_PAYMENT_MIN',\n",
       " 'PREV_AMT_DOWN_PAYMENT_MEAN',\n",
       " 'PREV_AMT_GOODS_PRICE_MIN',\n",
       " 'PREV_AMT_GOODS_PRICE_MEAN',\n",
       " 'PREV_HOUR_APPR_PROCESS_START_MIN',\n",
       " 'PREV_HOUR_APPR_PROCESS_START_MEAN',\n",
       " 'PREV_DAYS_DECISION_MIN',\n",
       " 'PREV_DAYS_DECISION_MAX',\n",
       " 'PREV_DAYS_DECISION_MEAN',\n",
       " 'PREV_CNT_PAYMENT_SUM',\n",
       " 'PREV_FLAG_LAST_APPL_PER_CONTRACT_N_MEAN',\n",
       " 'PREV_FLAG_LAST_APPL_PER_CONTRACT_Y_MEAN',\n",
       " 'PREV_NAME_CASH_LOAN_PURPOSE_Business development_MEAN',\n",
       " 'PREV_NAME_CASH_LOAN_PURPOSE_Car repairs_MEAN',\n",
       " 'PREV_NAME_CASH_LOAN_PURPOSE_Medicine_MEAN',\n",
       " 'PREV_NAME_CASH_LOAN_PURPOSE_Other_MEAN',\n",
       " 'PREV_NAME_CASH_LOAN_PURPOSE_Repairs_MEAN',\n",
       " 'PREV_NAME_CASH_LOAN_PURPOSE_Urgent needs_MEAN',\n",
       " 'PREV_NAME_CONTRACT_STATUS_Approved_MEAN',\n",
       " 'PREV_NAME_CONTRACT_STATUS_Refused_MEAN',\n",
       " 'PREV_NAME_PAYMENT_TYPE_Cash through the bank_MEAN',\n",
       " 'PREV_NAME_PAYMENT_TYPE_XNA_MEAN',\n",
       " 'PREV_CODE_REJECT_REASON_HC_MEAN',\n",
       " 'PREV_CODE_REJECT_REASON_SCOFR_MEAN',\n",
       " 'PREV_CODE_REJECT_REASON_XAP_MEAN',\n",
       " 'PREV_NAME_GOODS_CATEGORY_Construction Materials_MEAN',\n",
       " 'PREV_NAME_GOODS_CATEGORY_Tourism_MEAN',\n",
       " 'PREV_NAME_PORTFOLIO_Cars_MEAN',\n",
       " 'PREV_NAME_PORTFOLIO_XNA_MEAN',\n",
       " 'PREV_NAME_PRODUCT_TYPE_walk-in_MEAN',\n",
       " 'PREV_CHANNEL_TYPE_AP+ (Cash loan)_MEAN',\n",
       " 'PREV_CHANNEL_TYPE_Car dealer_MEAN',\n",
       " 'PREV_CHANNEL_TYPE_Contact center_MEAN',\n",
       " 'PREV_CHANNEL_TYPE_Credit and cash offices_MEAN',\n",
       " 'PREV_NAME_SELLER_INDUSTRY_XNA_MEAN',\n",
       " 'PREV_NAME_YIELD_GROUP_XNA_MEAN',\n",
       " 'PREV_NAME_YIELD_GROUP_high_MEAN',\n",
       " 'PREV_PRODUCT_COMBINATION_Card Street_MEAN',\n",
       " 'PREV_PRODUCT_COMBINATION_Cash Street: middle_MEAN',\n",
       " 'PREV_PRODUCT_COMBINATION_POS industry with interest_MEAN',\n",
       " 'PREV_PRODUCT_COMBINATION_POS mobile with interest_MEAN',\n",
       " 'APPROVED_AMT_ANNUITY_MEAN',\n",
       " 'APPROVED_APP_CREDIT_PERC_MAX',\n",
       " 'APPROVED_AMT_DOWN_PAYMENT_MAX',\n",
       " 'APPROVED_AMT_DOWN_PAYMENT_MEAN',\n",
       " 'APPROVED_AMT_GOODS_PRICE_MIN',\n",
       " 'APPROVED_AMT_GOODS_PRICE_MEAN',\n",
       " 'APPROVED_HOUR_APPR_PROCESS_START_MIN',\n",
       " 'APPROVED_HOUR_APPR_PROCESS_START_MEAN',\n",
       " 'APPROVED_DAYS_DECISION_MIN',\n",
       " 'APPROVED_DAYS_DECISION_MEAN',\n",
       " 'POS_MONTHS_BALANCE_MAX',\n",
       " 'POS_MONTHS_BALANCE_MEAN',\n",
       " 'POS_MONTHS_BALANCE_SIZE',\n",
       " 'POS_SK_DPD_MEAN',\n",
       " 'POS_SK_DPD_DEF_MAX',\n",
       " 'POS_SK_DPD_DEF_MEAN',\n",
       " 'POS_NAME_CONTRACT_STATUS_Demand_MEAN',\n",
       " 'POS_NAME_CONTRACT_STATUS_Returned to the store_MEAN',\n",
       " 'INSTAL_DPD_MAX',\n",
       " 'INSTAL_DPD_MEAN',\n",
       " 'INSTAL_PAYMENT_PERC_MAX',\n",
       " 'INSTAL_PAYMENT_PERC_MEAN',\n",
       " 'INSTAL_PAYMENT_PERC_SUM',\n",
       " 'INSTAL_PAYMENT_PERC_VAR',\n",
       " 'INSTAL_PAYMENT_DIFF_MEAN',\n",
       " 'INSTAL_PAYMENT_DIFF_VAR',\n",
       " 'INSTAL_AMT_PAYMENT_MIN',\n",
       " 'INSTAL_AMT_PAYMENT_MEAN',\n",
       " 'INSTAL_AMT_PAYMENT_SUM',\n",
       " 'INSTAL_DAYS_ENTRY_PAYMENT_MAX',\n",
       " 'INSTAL_DAYS_ENTRY_PAYMENT_MEAN',\n",
       " 'CHIDREN_RATE']"
      ]
     },
     "execution_count": 388,
     "metadata": {},
     "output_type": "execute_result"
    }
   ],
   "source": [
    "var_num"
   ]
  },
  {
   "cell_type": "markdown",
   "id": "b0725afe",
   "metadata": {},
   "source": [
    "### <a name=\"C3\"><font color='teal'>3 Create X & y</font></a> "
   ]
  },
  {
   "cell_type": "code",
   "execution_count": 18,
   "id": "bc15c236",
   "metadata": {},
   "outputs": [],
   "source": [
    "from sklearn.model_selection import train_test_split\n",
    "from sklearn.preprocessing import StandardScaler, OneHotEncoder\n",
    "from sklearn.compose import ColumnTransformer\n",
    "from imblearn.pipeline import Pipeline\n",
    "from imblearn.over_sampling import SMOTENC\n",
    "from sklearn.linear_model import LogisticRegression\n",
    "from sklearn.ensemble import HistGradientBoostingClassifier\n",
    "from sklearn.preprocessing import FunctionTransformer\n",
    "\n",
    "# Charger les données\n",
    "#data = df.copy()\n",
    "\n",
    "df = df.loc[df.apply(lambda x: (x==np.inf)).sum(axis=1)==0]\n",
    "#df = df.loc[df.apply(lambda x: (x==np.nan)).sum(axis=1)==0]\n",
    "\n",
    "# Séparer les variables indépendantes (X) de la variable cible (y)\n",
    "#X = df.dropna().drop('TARGET', axis=1)\n",
    "#y = df.dropna()['TARGET']\n",
    "\n",
    "# Séparer les données en train_data et test_data\n",
    "train_data, test_data, train_target, test_target = train_test_split(df.drop(['TARGET','SK_ID_CURR'], axis=1), \n",
    "                                                                    df['TARGET'], \n",
    "                                                                    test_size=0.2, random_state=42)\n",
    "\n",
    "# Recuperer les noms des colonnes\n",
    "colNames = df.drop(['TARGET','SK_ID_CURR'], axis=1).columns"
   ]
  },
  {
   "cell_type": "code",
   "execution_count": 19,
   "id": "0957e1e1",
   "metadata": {},
   "outputs": [
    {
     "data": {
      "text/plain": [
       "(19999, 180)"
      ]
     },
     "execution_count": 19,
     "metadata": {},
     "output_type": "execute_result"
    }
   ],
   "source": [
    "df.shape"
   ]
  },
  {
   "cell_type": "code",
   "execution_count": 20,
   "id": "416a823c",
   "metadata": {},
   "outputs": [
    {
     "name": "stdout",
     "output_type": "stream",
     "text": [
      "(15999, 178) (4000, 178)\n"
     ]
    }
   ],
   "source": [
    "print(train_data.shape, test_data.shape)"
   ]
  },
  {
   "cell_type": "markdown",
   "id": "1e2f200e",
   "metadata": {},
   "source": [
    "#### Obtenir les indices des types de colonnes"
   ]
  },
  {
   "cell_type": "code",
   "execution_count": 21,
   "id": "cc89e667",
   "metadata": {},
   "outputs": [
    {
     "data": {
      "text/plain": [
       "0"
      ]
     },
     "execution_count": 21,
     "metadata": {},
     "output_type": "execute_result"
    }
   ],
   "source": [
    "# Indices des variables catégorielles\n",
    "cat_indices = [i for i,x in enumerate(df.drop(['TARGET','SK_ID_CURR'], axis=1).columns) if x in var_cat]  \n",
    "# Exemple : les colonnes 0, 2 et 4 sont les variables catégorielles\n",
    "\n",
    "# Indices des variables numériques discrètes\n",
    "discrete_num_indices = [i for i,x in enumerate(df.drop(['TARGET','SK_ID_CURR'], axis=1).columns) if x in var_discretes]  \n",
    "# Exemple : les colonnes 1 et 3 sont les variables numériques discrètes\n",
    "\n",
    "# Indices des variables numériques continues\n",
    "continuous_num_indices = [i for i,x in enumerate(df.drop(['TARGET','SK_ID_CURR'], axis=1).columns) if x in var_num]  \n",
    "# Exemple : les colonnes 1 et 3 sont les variables numériques discrètes\n",
    "\n",
    "all_num_indices = discrete_num_indices + continuous_num_indices\n",
    "\n",
    "#del X,y\n",
    "gc.collect()"
   ]
  },
  {
   "cell_type": "markdown",
   "id": "b9265d77",
   "metadata": {},
   "source": [
    "#### Imputer les valeurs manquantes"
   ]
  },
  {
   "cell_type": "code",
   "execution_count": 22,
   "id": "b42bd811",
   "metadata": {},
   "outputs": [],
   "source": [
    "# explicitly require this experimental feature\n",
    "from sklearn.experimental import enable_iterative_imputer  # noqa\n",
    "# now you can import normally from sklearn.impute\n",
    "from sklearn.impute import IterativeImputer"
   ]
  },
  {
   "cell_type": "code",
   "execution_count": 23,
   "id": "9e28d6a0",
   "metadata": {},
   "outputs": [
    {
     "data": {
      "text/html": [
       "<style>#sk-container-id-1 {color: black;background-color: white;}#sk-container-id-1 pre{padding: 0;}#sk-container-id-1 div.sk-toggleable {background-color: white;}#sk-container-id-1 label.sk-toggleable__label {cursor: pointer;display: block;width: 100%;margin-bottom: 0;padding: 0.3em;box-sizing: border-box;text-align: center;}#sk-container-id-1 label.sk-toggleable__label-arrow:before {content: \"▸\";float: left;margin-right: 0.25em;color: #696969;}#sk-container-id-1 label.sk-toggleable__label-arrow:hover:before {color: black;}#sk-container-id-1 div.sk-estimator:hover label.sk-toggleable__label-arrow:before {color: black;}#sk-container-id-1 div.sk-toggleable__content {max-height: 0;max-width: 0;overflow: hidden;text-align: left;background-color: #f0f8ff;}#sk-container-id-1 div.sk-toggleable__content pre {margin: 0.2em;color: black;border-radius: 0.25em;background-color: #f0f8ff;}#sk-container-id-1 input.sk-toggleable__control:checked~div.sk-toggleable__content {max-height: 200px;max-width: 100%;overflow: auto;}#sk-container-id-1 input.sk-toggleable__control:checked~label.sk-toggleable__label-arrow:before {content: \"▾\";}#sk-container-id-1 div.sk-estimator input.sk-toggleable__control:checked~label.sk-toggleable__label {background-color: #d4ebff;}#sk-container-id-1 div.sk-label input.sk-toggleable__control:checked~label.sk-toggleable__label {background-color: #d4ebff;}#sk-container-id-1 input.sk-hidden--visually {border: 0;clip: rect(1px 1px 1px 1px);clip: rect(1px, 1px, 1px, 1px);height: 1px;margin: -1px;overflow: hidden;padding: 0;position: absolute;width: 1px;}#sk-container-id-1 div.sk-estimator {font-family: monospace;background-color: #f0f8ff;border: 1px dotted black;border-radius: 0.25em;box-sizing: border-box;margin-bottom: 0.5em;}#sk-container-id-1 div.sk-estimator:hover {background-color: #d4ebff;}#sk-container-id-1 div.sk-parallel-item::after {content: \"\";width: 100%;border-bottom: 1px solid gray;flex-grow: 1;}#sk-container-id-1 div.sk-label:hover label.sk-toggleable__label {background-color: #d4ebff;}#sk-container-id-1 div.sk-serial::before {content: \"\";position: absolute;border-left: 1px solid gray;box-sizing: border-box;top: 0;bottom: 0;left: 50%;z-index: 0;}#sk-container-id-1 div.sk-serial {display: flex;flex-direction: column;align-items: center;background-color: white;padding-right: 0.2em;padding-left: 0.2em;position: relative;}#sk-container-id-1 div.sk-item {position: relative;z-index: 1;}#sk-container-id-1 div.sk-parallel {display: flex;align-items: stretch;justify-content: center;background-color: white;position: relative;}#sk-container-id-1 div.sk-item::before, #sk-container-id-1 div.sk-parallel-item::before {content: \"\";position: absolute;border-left: 1px solid gray;box-sizing: border-box;top: 0;bottom: 0;left: 50%;z-index: -1;}#sk-container-id-1 div.sk-parallel-item {display: flex;flex-direction: column;z-index: 1;position: relative;background-color: white;}#sk-container-id-1 div.sk-parallel-item:first-child::after {align-self: flex-end;width: 50%;}#sk-container-id-1 div.sk-parallel-item:last-child::after {align-self: flex-start;width: 50%;}#sk-container-id-1 div.sk-parallel-item:only-child::after {width: 0;}#sk-container-id-1 div.sk-dashed-wrapped {border: 1px dashed gray;margin: 0 0.4em 0.5em 0.4em;box-sizing: border-box;padding-bottom: 0.4em;background-color: white;}#sk-container-id-1 div.sk-label label {font-family: monospace;font-weight: bold;display: inline-block;line-height: 1.2em;}#sk-container-id-1 div.sk-label-container {text-align: center;}#sk-container-id-1 div.sk-container {/* jupyter's `normalize.less` sets `[hidden] { display: none; }` but bootstrap.min.css set `[hidden] { display: none !important; }` so we also need the `!important` here to be able to override the default hidden behavior on the sphinx rendered scikit-learn.org. See: https://github.com/scikit-learn/scikit-learn/issues/21755 */display: inline-block !important;position: relative;}#sk-container-id-1 div.sk-text-repr-fallback {display: none;}</style><div id=\"sk-container-id-1\" class=\"sk-top-container\"><div class=\"sk-text-repr-fallback\"><pre>Pipeline(steps=[(&#x27;preprocessor&#x27;,\n",
       "                 ColumnTransformer(transformers=[(&#x27;cat&#x27;,\n",
       "                                                  OneHotEncoder(handle_unknown=&#x27;ignore&#x27;,\n",
       "                                                                sparse=False),\n",
       "                                                  [0, 9, 10, 11, 12, 13, 25, 35,\n",
       "                                                   38, 39]),\n",
       "                                                 (&#x27;num&#x27;, StandardScaler(),\n",
       "                                                  [1, 2, 3, 4, 19, 20, 21, 22,\n",
       "                                                   23, 24, 26, 27, 28, 29, 30,\n",
       "                                                   31, 32, 33, 34, 45, 46, 47,\n",
       "                                                   48, 49, 50, 51, 52, 53, 54,\n",
       "                                                   55, ...])])),\n",
       "                (&#x27;iterimputer&#x27;, IterativeImputer(random_state=0))])</pre><b>In a Jupyter environment, please rerun this cell to show the HTML representation or trust the notebook. <br />On GitHub, the HTML representation is unable to render, please try loading this page with nbviewer.org.</b></div><div class=\"sk-container\" hidden><div class=\"sk-item sk-dashed-wrapped\"><div class=\"sk-label-container\"><div class=\"sk-label sk-toggleable\"><input class=\"sk-toggleable__control sk-hidden--visually\" id=\"sk-estimator-id-1\" type=\"checkbox\" ><label for=\"sk-estimator-id-1\" class=\"sk-toggleable__label sk-toggleable__label-arrow\">Pipeline</label><div class=\"sk-toggleable__content\"><pre>Pipeline(steps=[(&#x27;preprocessor&#x27;,\n",
       "                 ColumnTransformer(transformers=[(&#x27;cat&#x27;,\n",
       "                                                  OneHotEncoder(handle_unknown=&#x27;ignore&#x27;,\n",
       "                                                                sparse=False),\n",
       "                                                  [0, 9, 10, 11, 12, 13, 25, 35,\n",
       "                                                   38, 39]),\n",
       "                                                 (&#x27;num&#x27;, StandardScaler(),\n",
       "                                                  [1, 2, 3, 4, 19, 20, 21, 22,\n",
       "                                                   23, 24, 26, 27, 28, 29, 30,\n",
       "                                                   31, 32, 33, 34, 45, 46, 47,\n",
       "                                                   48, 49, 50, 51, 52, 53, 54,\n",
       "                                                   55, ...])])),\n",
       "                (&#x27;iterimputer&#x27;, IterativeImputer(random_state=0))])</pre></div></div></div><div class=\"sk-serial\"><div class=\"sk-item sk-dashed-wrapped\"><div class=\"sk-label-container\"><div class=\"sk-label sk-toggleable\"><input class=\"sk-toggleable__control sk-hidden--visually\" id=\"sk-estimator-id-2\" type=\"checkbox\" ><label for=\"sk-estimator-id-2\" class=\"sk-toggleable__label sk-toggleable__label-arrow\">preprocessor: ColumnTransformer</label><div class=\"sk-toggleable__content\"><pre>ColumnTransformer(transformers=[(&#x27;cat&#x27;,\n",
       "                                 OneHotEncoder(handle_unknown=&#x27;ignore&#x27;,\n",
       "                                               sparse=False),\n",
       "                                 [0, 9, 10, 11, 12, 13, 25, 35, 38, 39]),\n",
       "                                (&#x27;num&#x27;, StandardScaler(),\n",
       "                                 [1, 2, 3, 4, 19, 20, 21, 22, 23, 24, 26, 27,\n",
       "                                  28, 29, 30, 31, 32, 33, 34, 45, 46, 47, 48,\n",
       "                                  49, 50, 51, 52, 53, 54, 55, ...])])</pre></div></div></div><div class=\"sk-parallel\"><div class=\"sk-parallel-item\"><div class=\"sk-item\"><div class=\"sk-label-container\"><div class=\"sk-label sk-toggleable\"><input class=\"sk-toggleable__control sk-hidden--visually\" id=\"sk-estimator-id-3\" type=\"checkbox\" ><label for=\"sk-estimator-id-3\" class=\"sk-toggleable__label sk-toggleable__label-arrow\">cat</label><div class=\"sk-toggleable__content\"><pre>[0, 9, 10, 11, 12, 13, 25, 35, 38, 39]</pre></div></div></div><div class=\"sk-serial\"><div class=\"sk-item\"><div class=\"sk-estimator sk-toggleable\"><input class=\"sk-toggleable__control sk-hidden--visually\" id=\"sk-estimator-id-4\" type=\"checkbox\" ><label for=\"sk-estimator-id-4\" class=\"sk-toggleable__label sk-toggleable__label-arrow\">OneHotEncoder</label><div class=\"sk-toggleable__content\"><pre>OneHotEncoder(handle_unknown=&#x27;ignore&#x27;, sparse=False)</pre></div></div></div></div></div></div><div class=\"sk-parallel-item\"><div class=\"sk-item\"><div class=\"sk-label-container\"><div class=\"sk-label sk-toggleable\"><input class=\"sk-toggleable__control sk-hidden--visually\" id=\"sk-estimator-id-5\" type=\"checkbox\" ><label for=\"sk-estimator-id-5\" class=\"sk-toggleable__label sk-toggleable__label-arrow\">num</label><div class=\"sk-toggleable__content\"><pre>[1, 2, 3, 4, 19, 20, 21, 22, 23, 24, 26, 27, 28, 29, 30, 31, 32, 33, 34, 45, 46, 47, 48, 49, 50, 51, 52, 53, 54, 55, 56, 57, 58, 59, 60, 61, 62, 63, 64, 5, 6, 7, 8, 14, 15, 16, 17, 18, 36, 37, 40, 41, 42, 43, 44, 65, 66, 67, 68, 69, 70, 71, 72, 73, 74, 75, 76, 77, 78, 79, 80, 81, 82, 83, 84, 85, 86, 87, 88, 89, 90, 91, 92, 93, 94, 95, 96, 97, 98, 99, 100, 101, 102, 103, 104, 105, 106, 107, 108, 109, 110, 111, 112, 113, 114, 115, 116, 117, 118, 119, 120, 121, 122, 123, 124, 125, 126, 127, 128, 129, 130, 131, 132, 133, 134, 135, 136, 137, 138, 139, 140, 141, 142, 143, 144, 145, 146, 147, 148, 149, 150, 151, 152, 153, 154, 155, 156, 157, 158, 159, 160, 161, 162, 163, 164, 165, 166, 167, 168, 169, 170, 171, 172, 173, 174, 175, 176, 177]</pre></div></div></div><div class=\"sk-serial\"><div class=\"sk-item\"><div class=\"sk-estimator sk-toggleable\"><input class=\"sk-toggleable__control sk-hidden--visually\" id=\"sk-estimator-id-6\" type=\"checkbox\" ><label for=\"sk-estimator-id-6\" class=\"sk-toggleable__label sk-toggleable__label-arrow\">StandardScaler</label><div class=\"sk-toggleable__content\"><pre>StandardScaler()</pre></div></div></div></div></div></div></div></div><div class=\"sk-item\"><div class=\"sk-estimator sk-toggleable\"><input class=\"sk-toggleable__control sk-hidden--visually\" id=\"sk-estimator-id-7\" type=\"checkbox\" ><label for=\"sk-estimator-id-7\" class=\"sk-toggleable__label sk-toggleable__label-arrow\">IterativeImputer</label><div class=\"sk-toggleable__content\"><pre>IterativeImputer(random_state=0)</pre></div></div></div></div></div></div></div>"
      ],
      "text/plain": [
       "Pipeline(steps=[('preprocessor',\n",
       "                 ColumnTransformer(transformers=[('cat',\n",
       "                                                  OneHotEncoder(handle_unknown='ignore',\n",
       "                                                                sparse=False),\n",
       "                                                  [0, 9, 10, 11, 12, 13, 25, 35,\n",
       "                                                   38, 39]),\n",
       "                                                 ('num', StandardScaler(),\n",
       "                                                  [1, 2, 3, 4, 19, 20, 21, 22,\n",
       "                                                   23, 24, 26, 27, 28, 29, 30,\n",
       "                                                   31, 32, 33, 34, 45, 46, 47,\n",
       "                                                   48, 49, 50, 51, 52, 53, 54,\n",
       "                                                   55, ...])])),\n",
       "                ('iterimputer', IterativeImputer(random_state=0))])"
      ]
     },
     "execution_count": 23,
     "metadata": {},
     "output_type": "execute_result"
    }
   ],
   "source": [
    "# Créer les transformers pour les variables catégorielles et numériques\n",
    "cat_transformer = OneHotEncoder(sparse=False, handle_unknown='ignore')\n",
    "num_transformer = StandardScaler()\n",
    "\n",
    "# Créer le ColumnTransformer pour appliquer les transformations\n",
    "preprocessor = ColumnTransformer(\n",
    "    transformers=[\n",
    "        ('cat', cat_transformer, cat_indices),\n",
    "        ('num', num_transformer, all_num_indices)\n",
    "    ])\n",
    "\n",
    "# Créer un imputeur pour remplacer les valeurs manquantes \n",
    "imputer = IterativeImputer(random_state=0)\n",
    "\n",
    "# Créer le pipeline avec le préprocesseur et le classifieur\n",
    "pipeImputer = Pipeline([\n",
    "    ('preprocessor', preprocessor),\n",
    "    ('iterimputer', imputer),\n",
    "])\n",
    "\n",
    "# Entraîner le pipeline sur les données d'entraînement\n",
    "pipeImputer.fit(train_data, train_target)"
   ]
  },
  {
   "cell_type": "code",
   "execution_count": 24,
   "id": "2ee5c35e",
   "metadata": {},
   "outputs": [],
   "source": [
    "train_data_imputed = pipeImputer.transform(train_data)\n",
    "train_data_imputed = pd.DataFrame(train_data_imputed,\n",
    "                                  columns=pipeImputer.get_feature_names_out())"
   ]
  },
  {
   "cell_type": "markdown",
   "id": "310c69e9",
   "metadata": {},
   "source": [
    "#### Transformation Inverse oneHotencoder"
   ]
  },
  {
   "cell_type": "code",
   "execution_count": 25,
   "id": "8070392f",
   "metadata": {},
   "outputs": [],
   "source": [
    "# obtenir l'encoder à partir du pipe\n",
    "ohe = pipeImputer['preprocessor'].transformers_[0][1]\n",
    "\n",
    "# Conversion inverse_transform\n",
    "train_data_cat = ohe.inverse_transform(train_data_imputed.filter(regex='^cat_'))\n",
    "\n",
    "# pd.Dataframe\n",
    "train_data_cat = pd.DataFrame( train_data_cat, columns=ohe.feature_names_in_)"
   ]
  },
  {
   "cell_type": "markdown",
   "id": "907aecf3",
   "metadata": {},
   "source": [
    "#### Transformation Inverse Standard Scaler"
   ]
  },
  {
   "cell_type": "code",
   "execution_count": 29,
   "id": "76427eaa",
   "metadata": {},
   "outputs": [],
   "source": [
    "# obtenir l'encoder à partir du pipe\n",
    "sc = pipeImputer['preprocessor'].transformers_[1][1]\n",
    "\n",
    "# Conversion inverse_transform\n",
    "#train_data_num = sc.inverse_transform(train_data_imputed.filter(regex='^num_'))\n",
    "\n",
    "# pd.Dataframe numerique features\n",
    "#train_data_num = pd.DataFrame( train_data_num, columns=sc.feature_names_in_)\n",
    "train_data_num = train_data_imputed.filter(regex='^num_')\n",
    "train_data_num.columns = [x.replace('num__','') for x in train_data_num.columns]"
   ]
  },
  {
   "cell_type": "raw",
   "id": "e61c7e60",
   "metadata": {},
   "source": [
    "pd.DataFrame(train_data_num,columns=sc.feature_names_in_).head()"
   ]
  },
  {
   "cell_type": "raw",
   "id": "49ae604f",
   "metadata": {},
   "source": [
    "df[['PREV_APP_CREDIT_PERC_MIN','PREV_APP_CREDIT_PERC_MAX','PREV_APP_CREDIT_PERC_MEAN']].head()"
   ]
  },
  {
   "cell_type": "markdown",
   "id": "eb7520f2",
   "metadata": {},
   "source": [
    "#### Reformation du dataframe "
   ]
  },
  {
   "cell_type": "code",
   "execution_count": 30,
   "id": "4a781b53",
   "metadata": {},
   "outputs": [
    {
     "data": {
      "text/plain": [
       "480"
      ]
     },
     "execution_count": 30,
     "metadata": {},
     "output_type": "execute_result"
    }
   ],
   "source": [
    "train_data_imputed_TI = pd.concat([train_data_cat, train_data_num], axis = 1 )\n",
    "del train_data_cat, train_data_num\n",
    "gc.collect()"
   ]
  },
  {
   "cell_type": "code",
   "execution_count": 31,
   "id": "202acbf1",
   "metadata": {},
   "outputs": [
    {
     "name": "stdout",
     "output_type": "stream",
     "text": [
      "(15999, 178) (15999, 178)\n"
     ]
    }
   ],
   "source": [
    "print(train_data_imputed_TI.shape,train_data.shape)"
   ]
  },
  {
   "cell_type": "code",
   "execution_count": 32,
   "id": "ec455f28",
   "metadata": {},
   "outputs": [
    {
     "data": {
      "text/plain": [
       "[]"
      ]
     },
     "execution_count": 32,
     "metadata": {},
     "output_type": "execute_result"
    }
   ],
   "source": [
    "[x for x in train_data.columns if x not in train_data_imputed_TI]"
   ]
  },
  {
   "cell_type": "code",
   "execution_count": 33,
   "id": "db30aad5",
   "metadata": {},
   "outputs": [
    {
     "data": {
      "text/plain": [
       "(19999, 180)"
      ]
     },
     "execution_count": 33,
     "metadata": {},
     "output_type": "execute_result"
    }
   ],
   "source": [
    "df.shape"
   ]
  },
  {
   "cell_type": "raw",
   "id": "e35b47a5",
   "metadata": {},
   "source": [
    "imp_mean = IterativeImputer(random_state=0)\n",
    "imp_mean.fit( train_data )\n",
    "train_data_imputed = imp_mean.transform(train_data)"
   ]
  },
  {
   "cell_type": "raw",
   "id": "afba7aec",
   "metadata": {},
   "source": [
    "test_data_imputed = imp_mean.transform(test_data)"
   ]
  },
  {
   "cell_type": "markdown",
   "id": "3734438e",
   "metadata": {},
   "source": [
    "#### Obtenir les indices des types de colonnes"
   ]
  },
  {
   "cell_type": "code",
   "execution_count": 92,
   "id": "d6c7073a",
   "metadata": {},
   "outputs": [
    {
     "data": {
      "text/plain": [
       "2170"
      ]
     },
     "execution_count": 92,
     "metadata": {},
     "output_type": "execute_result"
    }
   ],
   "source": [
    "# Indices des variables catégorielles\n",
    "cat_indices = [i for i,x in enumerate(train_data_imputed_TI.columns) if x in var_cat]  \n",
    "# Exemple : les colonnes 0, 2 et 4 sont les variables catégorielles\n",
    "\n",
    "# Indices des variables numériques discrètes\n",
    "discrete_num_indices = [i for i,x in enumerate(train_data_imputed_TI.columns) if x in var_discretes]  \n",
    "# Exemple : les colonnes 1 et 3 sont les variables numériques discrètes\n",
    "\n",
    "# Indices des variables numériques continues\n",
    "continuous_num_indices = [i for i,x in enumerate(train_data_imputed_TI.columns) if x in var_num]  \n",
    "# Exemple : les colonnes 1 et 3 sont les variables numériques discrètes\n",
    "\n",
    "all_num_indices = discrete_num_indices + continuous_num_indices\n",
    "\n",
    "colNames = colNames[cat_indices +discrete_num_indices+ continuous_num_indices]\n",
    "#del X,y\n",
    "gc.collect()"
   ]
  },
  {
   "cell_type": "markdown",
   "id": "90352a11",
   "metadata": {},
   "source": [
    "#### Scale des features numériques"
   ]
  },
  {
   "cell_type": "raw",
   "id": "965b4ce0",
   "metadata": {},
   "source": [
    "# Scale numerical data\n",
    "#sc = StandardScaler()\n",
    "train_data_num = train_data.iloc[:,all_num_indices]\n",
    "train_data_num = sc.transform(train_data_num)"
   ]
  },
  {
   "cell_type": "markdown",
   "id": "e01372c3",
   "metadata": {},
   "source": [
    "#### Concaténation des features"
   ]
  },
  {
   "cell_type": "raw",
   "id": "beaabaf7",
   "metadata": {},
   "source": [
    "# Concaténation des features catégorielles et features numériques mis à l'échelle\n",
    "train_data = np.c_[train_data.iloc[:,cat_indices],\n",
    "                   train_data_num]"
   ]
  },
  {
   "cell_type": "code",
   "execution_count": 36,
   "id": "74a58ece",
   "metadata": {},
   "outputs": [
    {
     "data": {
      "text/html": [
       "<div>\n",
       "<style scoped>\n",
       "    .dataframe tbody tr th:only-of-type {\n",
       "        vertical-align: middle;\n",
       "    }\n",
       "\n",
       "    .dataframe tbody tr th {\n",
       "        vertical-align: top;\n",
       "    }\n",
       "\n",
       "    .dataframe thead th {\n",
       "        text-align: right;\n",
       "    }\n",
       "</style>\n",
       "<table border=\"1\" class=\"dataframe\">\n",
       "  <thead>\n",
       "    <tr style=\"text-align: right;\">\n",
       "      <th></th>\n",
       "      <th>Raw</th>\n",
       "      <th>Normalized</th>\n",
       "    </tr>\n",
       "  </thead>\n",
       "  <tbody>\n",
       "    <tr>\n",
       "      <th>0</th>\n",
       "      <td>14699.0</td>\n",
       "      <td>0.918745</td>\n",
       "    </tr>\n",
       "    <tr>\n",
       "      <th>1</th>\n",
       "      <td>1300.0</td>\n",
       "      <td>0.081255</td>\n",
       "    </tr>\n",
       "  </tbody>\n",
       "</table>\n",
       "</div>"
      ],
      "text/plain": [
       "       Raw  Normalized\n",
       "0  14699.0    0.918745\n",
       "1   1300.0    0.081255"
      ]
     },
     "execution_count": 36,
     "metadata": {},
     "output_type": "execute_result"
    }
   ],
   "source": [
    "pd.DataFrame(np.c_[train_target.value_counts(),\n",
    "                   train_target.value_counts(normalize = True)],\n",
    "             columns=['Raw','Normalized'])"
   ]
  },
  {
   "cell_type": "markdown",
   "id": "ec6e9dca",
   "metadata": {},
   "source": [
    "#### Over-Sampling data"
   ]
  },
  {
   "cell_type": "code",
   "execution_count": 329,
   "id": "b401f3f5",
   "metadata": {},
   "outputs": [
    {
     "name": "stdout",
     "output_type": "stream",
     "text": [
      "CPU times: total: 35.2 s\n",
      "Wall time: 11.9 s\n"
     ]
    }
   ],
   "source": [
    "%%time\n",
    "# Créer l'instance SMOTENC\n",
    "smotenc = SMOTENC(sampling_strategy=0.5, categorical_features= cat_indices , random_state=97)\n",
    "train_data_res, train_target_res = smotenc.fit_resample(train_data_imputed_TI, train_target)"
   ]
  },
  {
   "cell_type": "code",
   "execution_count": 94,
   "id": "cd1241fe",
   "metadata": {},
   "outputs": [
    {
     "data": {
      "text/plain": [
       "(22048, 178)"
      ]
     },
     "execution_count": 94,
     "metadata": {},
     "output_type": "execute_result"
    }
   ],
   "source": [
    "train_data_res.shape"
   ]
  },
  {
   "cell_type": "code",
   "execution_count": 95,
   "id": "3e2e3ec3",
   "metadata": {},
   "outputs": [
    {
     "data": {
      "text/plain": [
       "(22048,)"
      ]
     },
     "execution_count": 95,
     "metadata": {},
     "output_type": "execute_result"
    }
   ],
   "source": [
    "train_target_res.shape"
   ]
  },
  {
   "cell_type": "code",
   "execution_count": 96,
   "id": "6f87ac61",
   "metadata": {},
   "outputs": [
    {
     "data": {
      "text/html": [
       "<div>\n",
       "<style scoped>\n",
       "    .dataframe tbody tr th:only-of-type {\n",
       "        vertical-align: middle;\n",
       "    }\n",
       "\n",
       "    .dataframe tbody tr th {\n",
       "        vertical-align: top;\n",
       "    }\n",
       "\n",
       "    .dataframe thead th {\n",
       "        text-align: right;\n",
       "    }\n",
       "</style>\n",
       "<table border=\"1\" class=\"dataframe\">\n",
       "  <thead>\n",
       "    <tr style=\"text-align: right;\">\n",
       "      <th></th>\n",
       "      <th>Raw</th>\n",
       "      <th>Normalized</th>\n",
       "    </tr>\n",
       "  </thead>\n",
       "  <tbody>\n",
       "    <tr>\n",
       "      <th>0</th>\n",
       "      <td>14699.0</td>\n",
       "      <td>0.666682</td>\n",
       "    </tr>\n",
       "    <tr>\n",
       "      <th>1</th>\n",
       "      <td>7349.0</td>\n",
       "      <td>0.333318</td>\n",
       "    </tr>\n",
       "  </tbody>\n",
       "</table>\n",
       "</div>"
      ],
      "text/plain": [
       "       Raw  Normalized\n",
       "0  14699.0    0.666682\n",
       "1   7349.0    0.333318"
      ]
     },
     "execution_count": 96,
     "metadata": {},
     "output_type": "execute_result"
    }
   ],
   "source": [
    "pd.DataFrame(np.c_[train_target_res.value_counts(),\n",
    "                   train_target_res.value_counts(normalize = True)],\n",
    "             columns=['Raw','Normalized'])"
   ]
  },
  {
   "attachments": {
    "02-04-02-SMOTE-numeric-Hist-discrete-SMOTE-zone-isolees-pjvqvxgt83ufa8419e9xoz1kqrf9hqfb8vilvdm01a.png": {
     "image/png": "[encoded data removed]"
    }
   },
   "cell_type": "markdown",
   "id": "eb50580b",
   "metadata": {},
   "source": [
    "#### Re-traiter les variables numériques DISCRETES\n",
    "\n",
    "Une variable discrète est une variable prenant un faible nombre de valeurs fixes, </br>\n",
    "par exemple le nombre de contrats d’un client, ou l’âge arrondi à l’année. </br>\n",
    "Pour ces variables le SMOTE conduit à un pattern particulier, illustré par l’histogramme suivant :</br>\n",
    "![02-04-02-SMOTE-numeric-Hist-discrete-SMOTE-zone-isolees-pjvqvxgt83ufa8419e9xoz1kqrf9hqfb8vilvdm01a.png](attachment:02-04-02-SMOTE-numeric-Hist-discrete-SMOTE-zone-isolees-pjvqvxgt83ufa8419e9xoz1kqrf9hqfb8vilvdm01a.png) </br>\n",
    "\n",
    "En présence d’une variable discrète, le SMOTE crée des individus synthétiques dans des régions où aucun individu réel ne se trouve. Nommons ces régions les “zones synthétiques irréelles”. Elles correspondent aux encadrés rouges dans la figure ci-dessus.\n",
    "\n",
    "Dans ces zones synthétiques irréelles, le signal est pur : elles contiennent uniquement des individus positifs. Un modèle avec une bonne capacité de séparation de l’espace comme un algorithme par arbre (tree-based learner) ou un réseau de neurones profond (deep neural network) va donc concentrer une partie des ses efforts d’apprentissage sur ces régions. En effet, s’il isole parfaitement une zone synthétique irréelle, il prédira une probabilité de 1 dans cette zone et fera donc une prédiction correcte à 100%. Il augmentera ainsi sa performance sur les données Train.\n",
    "\n",
    "Plusieurs points sont à noter :\n",
    "\n",
    "* Ces régions ne seront jamais rencontrées dans les données de validation/test : elles sont donc “apprises pour rien” et n’impactent pas la performance du modèle mesurée sur validation/test (tant que vous ne faites pas l’erreur de faire du SMOTE sur ces données).\n",
    "</br>\n",
    "* Mais elles génèrent une forte variance (écart de performance entre les données Train et Validation/Test) et sont susceptibles de déformer le signal appris par le modèle, qui devient alors moins robuste et moins interprétable.\n",
    "</br>\n",
    "* Enfin elles rallongent le temps d’apprentissage du modèle, qui dépense du temps à apprendre ces régions inutiles."
   ]
  },
  {
   "cell_type": "markdown",
   "id": "350e456e",
   "metadata": {},
   "source": [
    "#### Liste contenant les indices des variables numériques discrètes"
   ]
  },
  {
   "cell_type": "code",
   "execution_count": 97,
   "id": "8711deb2",
   "metadata": {},
   "outputs": [
    {
     "data": {
      "text/plain": [
       "[]"
      ]
     },
     "execution_count": 97,
     "metadata": {},
     "output_type": "execute_result"
    }
   ],
   "source": [
    "[x for x in train_data_imputed_TI.iloc[:,continuous_num_indices].columns if x not in var_num]"
   ]
  },
  {
   "cell_type": "code",
   "execution_count": 98,
   "id": "90032eaf",
   "metadata": {},
   "outputs": [],
   "source": [
    "# Indices des variables catégorielles\n",
    "cat_indices = [i for i,x in enumerate(train_data_imputed_TI.columns) if x in var_cat]  \n",
    "\n",
    "# Indices des variables numériques discrètes\n",
    "discrete_num_indices = [i for i,x in enumerate(train_data_imputed_TI.columns) if x in var_discretes]  \n",
    "\n",
    "# Indices des variables numériques continues\n",
    "continuous_num_indices = [i for i,x in enumerate(train_data_imputed_TI.columns) if x in var_num]  "
   ]
  },
  {
   "cell_type": "markdown",
   "id": "b4c18806",
   "metadata": {},
   "source": [
    "#### Retraiter les variables numériques discrètes avec la fonction re_discretize"
   ]
  },
  {
   "cell_type": "code",
   "execution_count": 330,
   "id": "6ea901d1",
   "metadata": {},
   "outputs": [],
   "source": [
    "for numeric_discrete_col in discrete_num_indices:\n",
    "    train_data_res.iloc[:, numeric_discrete_col] = re_discretize(\n",
    "        np.unique(train_data_imputed_TI.iloc[:, numeric_discrete_col]),\n",
    "        train_data_res.iloc[:, numeric_discrete_col],\n",
    "    )"
   ]
  },
  {
   "cell_type": "code",
   "execution_count": 331,
   "id": "a60ba047",
   "metadata": {},
   "outputs": [
    {
     "data": {
      "text/plain": [
       "CODE_GENDER                     2\n",
       "FLAG_OWN_CAR                    2\n",
       "FLAG_OWN_REALTY                 2\n",
       "CNT_CHILDREN                   10\n",
       "FLAG_MOBIL                      2\n",
       "FLAG_EMP_PHONE                  2\n",
       "FLAG_WORK_PHONE                 2\n",
       "FLAG_CONT_MOBILE                2\n",
       "FLAG_PHONE                      2\n",
       "FLAG_EMAIL                      2\n",
       "CNT_FAM_MEMBERS                10\n",
       "REGION_RATING_CLIENT            3\n",
       "REGION_RATING_CLIENT_W_CITY     3\n",
       "REG_REGION_NOT_LIVE_REGION      2\n",
       "REG_REGION_NOT_WORK_REGION      2\n",
       "LIVE_REGION_NOT_WORK_REGION     2\n",
       "REG_CITY_NOT_LIVE_CITY          2\n",
       "REG_CITY_NOT_WORK_CITY          2\n",
       "LIVE_CITY_NOT_WORK_CITY         2\n",
       "FLAG_DOCUMENT_2                 2\n",
       "FLAG_DOCUMENT_3                 2\n",
       "FLAG_DOCUMENT_4                 2\n",
       "FLAG_DOCUMENT_5                 2\n",
       "FLAG_DOCUMENT_6                 2\n",
       "FLAG_DOCUMENT_7                 2\n",
       "FLAG_DOCUMENT_8                 2\n",
       "FLAG_DOCUMENT_9                 2\n",
       "FLAG_DOCUMENT_10                1\n",
       "FLAG_DOCUMENT_11                2\n",
       "FLAG_DOCUMENT_12                1\n",
       "FLAG_DOCUMENT_13                2\n",
       "FLAG_DOCUMENT_14                2\n",
       "FLAG_DOCUMENT_15                2\n",
       "FLAG_DOCUMENT_16                2\n",
       "FLAG_DOCUMENT_17                2\n",
       "FLAG_DOCUMENT_18                2\n",
       "FLAG_DOCUMENT_19                2\n",
       "FLAG_DOCUMENT_20                2\n",
       "FLAG_DOCUMENT_21                2\n",
       "dtype: int64"
      ]
     },
     "execution_count": 331,
     "metadata": {},
     "output_type": "execute_result"
    }
   ],
   "source": [
    "train_data[var_discretes].apply(lambda x: x.nunique())"
   ]
  },
  {
   "cell_type": "code",
   "execution_count": 332,
   "id": "279f19ad",
   "metadata": {},
   "outputs": [
    {
     "data": {
      "text/plain": [
       "CODE_GENDER                     2\n",
       "FLAG_OWN_CAR                    2\n",
       "FLAG_OWN_REALTY                 2\n",
       "CNT_CHILDREN                   10\n",
       "FLAG_MOBIL                      2\n",
       "FLAG_EMP_PHONE                  2\n",
       "FLAG_WORK_PHONE                 2\n",
       "FLAG_CONT_MOBILE                2\n",
       "FLAG_PHONE                      2\n",
       "FLAG_EMAIL                      2\n",
       "CNT_FAM_MEMBERS                10\n",
       "REGION_RATING_CLIENT            3\n",
       "REGION_RATING_CLIENT_W_CITY     3\n",
       "REG_REGION_NOT_LIVE_REGION      2\n",
       "REG_REGION_NOT_WORK_REGION      2\n",
       "LIVE_REGION_NOT_WORK_REGION     2\n",
       "REG_CITY_NOT_LIVE_CITY          2\n",
       "REG_CITY_NOT_WORK_CITY          2\n",
       "LIVE_CITY_NOT_WORK_CITY         2\n",
       "FLAG_DOCUMENT_2                 2\n",
       "FLAG_DOCUMENT_3                 2\n",
       "FLAG_DOCUMENT_4                 2\n",
       "FLAG_DOCUMENT_5                 2\n",
       "FLAG_DOCUMENT_6                 2\n",
       "FLAG_DOCUMENT_7                 2\n",
       "FLAG_DOCUMENT_8                 2\n",
       "FLAG_DOCUMENT_9                 2\n",
       "FLAG_DOCUMENT_10                1\n",
       "FLAG_DOCUMENT_11                2\n",
       "FLAG_DOCUMENT_12                1\n",
       "FLAG_DOCUMENT_13                2\n",
       "FLAG_DOCUMENT_14                2\n",
       "FLAG_DOCUMENT_15                2\n",
       "FLAG_DOCUMENT_16                2\n",
       "FLAG_DOCUMENT_17                2\n",
       "FLAG_DOCUMENT_18                2\n",
       "FLAG_DOCUMENT_19                2\n",
       "FLAG_DOCUMENT_20                2\n",
       "FLAG_DOCUMENT_21                2\n",
       "dtype: int64"
      ]
     },
     "execution_count": 332,
     "metadata": {},
     "output_type": "execute_result"
    }
   ],
   "source": [
    "train_data_res[var_discretes].apply(lambda x: x.nunique())"
   ]
  },
  {
   "cell_type": "markdown",
   "id": "f7fa391e",
   "metadata": {},
   "source": [
    "#### Inverse Scaling numeriques features"
   ]
  },
  {
   "cell_type": "raw",
   "id": "d5990c1c",
   "metadata": {},
   "source": [
    "# Inverse-Scale numerical data\n",
    "# sc = StandardScaler()\n",
    "train_data_num = train_data_res[:,len(cat_indices):]\n",
    "train_data_numed = sc.inverse_transform(train_data_num)"
   ]
  },
  {
   "cell_type": "markdown",
   "id": "fc649680",
   "metadata": {},
   "source": [
    "#### Encoder les données catégorielles"
   ]
  },
  {
   "cell_type": "raw",
   "id": "d33a859e",
   "metadata": {},
   "source": [
    "# transformation DataFrame\n",
    "train_data_res = pd.DataFrame(\n",
    "    np.c_[train_data_res[:,:len(var_cat)],\n",
    "          train_data_numed],\n",
    "    columns=colNames)"
   ]
  },
  {
   "cell_type": "raw",
   "id": "65367a5c",
   "metadata": {},
   "source": [
    "del train_data_numed, train_data_num\n",
    "gc.collect()"
   ]
  },
  {
   "cell_type": "code",
   "execution_count": 409,
   "id": "439f5629",
   "metadata": {},
   "outputs": [],
   "source": [
    "# Créer les transformers pour les variables catégorielles et numériques\n",
    "#cat_transformer = OneHotEncoder(drop = 'first',sparse=False, handle_unknown='ignore')\n",
    "#cat_transformer.fit(train_data_res.iloc[:,var_cat])\n",
    "\n",
    "# Appliquer le one-hot encoding aux variables catégorielles\n",
    "train_data_encoded = ohe.transform(train_data_res[var_cat])"
   ]
  },
  {
   "cell_type": "code",
   "execution_count": 410,
   "id": "bb454e38",
   "metadata": {},
   "outputs": [],
   "source": [
    "# Créer un dataframe à partir des variables encodées\n",
    "train_data_encoded = pd.DataFrame(train_data_encoded, \n",
    "                                  columns=ohe.get_feature_names_out())"
   ]
  },
  {
   "cell_type": "code",
   "execution_count": 411,
   "id": "9e6bc11c",
   "metadata": {},
   "outputs": [
    {
     "data": {
      "text/plain": [
       "[]"
      ]
     },
     "execution_count": 411,
     "metadata": {},
     "output_type": "execute_result"
    }
   ],
   "source": [
    "[x for x in train_data_encoded.columns if x not in [x.replace('cat__','').replace('num__','') for x in test_data_imputed.columns]]"
   ]
  },
  {
   "cell_type": "code",
   "execution_count": 412,
   "id": "e6d451b2",
   "metadata": {},
   "outputs": [],
   "source": [
    "# Ajouter les variables numériques au dataframe encodé\n",
    "train_data_encoded = pd.concat([train_data_encoded,train_data_res[  var_discretes + var_num ]],axis=1)"
   ]
  },
  {
   "cell_type": "code",
   "execution_count": 413,
   "id": "67eb5a2e",
   "metadata": {},
   "outputs": [
    {
     "data": {
      "text/plain": [
       "((22048, 284), (22048, 178))"
      ]
     },
     "execution_count": 413,
     "metadata": {},
     "output_type": "execute_result"
    }
   ],
   "source": [
    "train_data_encoded.shape, train_data_res.shape"
   ]
  },
  {
   "cell_type": "raw",
   "id": "12916a48",
   "metadata": {},
   "source": [
    "# Ajouter les variables numériques au dataframe encodé\n",
    "train_data_encoded[ var_num + var_discretes ] = train_data_res.iloc[:, var_num + var_discretes ]\n",
    "\n",
    "# Renommer les colonnes\n",
    "train_data_encoded.columns[ -len(var_num + var_discretes): ] = train_data_res.columns[ var_num + var_discretes ]"
   ]
  },
  {
   "cell_type": "markdown",
   "id": "b936cf0c",
   "metadata": {},
   "source": [
    "#### test_data transformation"
   ]
  },
  {
   "cell_type": "code",
   "execution_count": 420,
   "id": "1aa525d6",
   "metadata": {},
   "outputs": [],
   "source": [
    "test_data_imputed = pipeImputer.transform(test_data)\n",
    "test_data_imputed = pd.DataFrame(test_data_imputed,\n",
    "                                  columns=[x.replace('cat__','').replace('num__','') for x in pipeImputer.get_feature_names_out()])"
   ]
  },
  {
   "cell_type": "code",
   "execution_count": 421,
   "id": "4c4cd146",
   "metadata": {},
   "outputs": [
    {
     "data": {
      "text/plain": [
       "((22048, 284), (4000, 284))"
      ]
     },
     "execution_count": 421,
     "metadata": {},
     "output_type": "execute_result"
    }
   ],
   "source": [
    "train_data_encoded.shape,test_data_imputed.shape"
   ]
  },
  {
   "cell_type": "code",
   "execution_count": 422,
   "id": "3ab9c41a",
   "metadata": {},
   "outputs": [],
   "source": [
    "ttt = test_data_imputed.columns\n",
    "ttt =[x for x in ttt]"
   ]
  },
  {
   "cell_type": "code",
   "execution_count": 423,
   "id": "40ba016f",
   "metadata": {},
   "outputs": [
    {
     "data": {
      "text/plain": [
       "[]"
      ]
     },
     "execution_count": 423,
     "metadata": {},
     "output_type": "execute_result"
    }
   ],
   "source": [
    "[x for x in train_data_encoded.columns if x not in ttt]"
   ]
  },
  {
   "cell_type": "code",
   "execution_count": 424,
   "id": "8f02fc9c",
   "metadata": {},
   "outputs": [
    {
     "data": {
      "text/plain": [
       "[]"
      ]
     },
     "execution_count": 424,
     "metadata": {},
     "output_type": "execute_result"
    }
   ],
   "source": [
    "[x for x in ttt  if x not in train_data_encoded.columns]"
   ]
  },
  {
   "cell_type": "markdown",
   "id": "86b498da",
   "metadata": {},
   "source": [
    "#### Creation et comparaison de model"
   ]
  },
  {
   "cell_type": "code",
   "execution_count": 345,
   "id": "18b514da",
   "metadata": {},
   "outputs": [],
   "source": [
    "from sklearn.linear_model import LogisticRegression\n",
    "from sklearn.ensemble import RandomForestClassifier,GradientBoostingClassifier,BaggingClassifier,AdaBoostClassifier\n",
    "from sklearn.ensemble import HistGradientBoostingClassifier\n",
    "from lightgbm import LGBMRegressor"
   ]
  },
  {
   "cell_type": "code",
   "execution_count": 428,
   "id": "5bd64c5d",
   "metadata": {},
   "outputs": [],
   "source": [
    "from sklearn.metrics import f1_score, roc_auc_score, roc_curve\n",
    "def generate_auc_roc_curve(clf, X_test,y_test):\n",
    "    y_pred_proba = clf.predict_proba(X_test)[:,1]\n",
    "    fpr, tpr, thresholds = roc_curve(y_test, y_pred_proba)\n",
    "    auc = roc_auc_score(y_test, y_pred_proba)\n",
    "    plt.plot(fpr,tpr,label = clf.__class__.__name__+': AUC ='+str(auc))\n",
    "    plt.legend(loc=4)\n",
    "    pass"
   ]
  },
  {
   "cell_type": "code",
   "execution_count": 431,
   "id": "20e09792",
   "metadata": {},
   "outputs": [
    {
     "data": {
      "image/png": "[encoded data removed]",
      "text/plain": [
       "<Figure size 1000x600 with 1 Axes>"
      ]
     },
     "metadata": {},
     "output_type": "display_data"
    }
   ],
   "source": [
    "rfc = RandomForestClassifier().fit(train_data_encoded,train_target_res)\n",
    "logr = LogisticRegression().fit(train_data_encoded,train_target_res)\n",
    "HistGB = HistGradientBoostingClassifier().fit(train_data_encoded,train_target_res)\n",
    "adac = AdaBoostClassifier().fit(train_data_encoded,train_target_res)\n",
    "\n",
    "generate_auc_roc_curve(rfc, test_data_imputed,test_target)\n",
    "generate_auc_roc_curve(logr, test_data_imputed,test_target)\n",
    "generate_auc_roc_curve(HistGB, test_data_imputed,test_target)\n",
    "generate_auc_roc_curve(adac, test_data_imputed,test_target)"
   ]
  },
  {
   "cell_type": "code",
   "execution_count": 437,
   "id": "6cc0c84a",
   "metadata": {},
   "outputs": [],
   "source": [
    "def convertMillis(millis):\n",
    "    millis = int(millis)\n",
    "    seconds=(millis/1000)%60\n",
    "    seconds = int(seconds)\n",
    "    minutes=(millis/(1000*60))%60\n",
    "    minutes = int(minutes)\n",
    "    hours=(millis/(1000*60*60))%24\n",
    "    return \"%dh : %dmin : %ds : %dms\" % (hours, minutes, seconds,millis)"
   ]
  },
  {
   "cell_type": "code",
   "execution_count": 439,
   "id": "5968581d",
   "metadata": {},
   "outputs": [],
   "source": [
    "from sklearn.model_selection import cross_validate\n",
    "def compute_clf_cross_validate_score_time(clf, X, y):\n",
    "    # get starting time\n",
    "    start = time.time()\n",
    "    #y = y.astype('object')\n",
    "    # compute roc_auc & accuracy score\n",
    "    xval = cross_validate(clf, X, y, cv = 5,scoring=['roc_auc','roc_auc_ovr_weighted'])\n",
    "    # get the execution time\n",
    "    elapsed_time_lc=(time.time()-start)\n",
    "    \n",
    "    # Obtient le nom du classifieur\n",
    "    classifier_name = clf.__class__.__name__\n",
    "    print(\"Nom du classifieur:\", classifier_name, '. Temps d\\'execution :',convertMillis(elapsed_time_lc*1000) )\n",
    "    \n",
    "    return {'Time':elapsed_time_lc,\n",
    "            'AUC mean score':round(np.mean(xval['test_roc_auc']),5),\n",
    "            'AUC weighted mean score':round(np.mean(xval['test_roc_auc_ovr_weighted']),5),\n",
    "           }"
   ]
  },
  {
   "cell_type": "code",
   "execution_count": 446,
   "id": "686d9065",
   "metadata": {},
   "outputs": [],
   "source": [
    "def result_compute_model(X_train_scaled,y_train):\n",
    "    res_model_type = dict()\n",
    "\n",
    "    res_model_type['LogisticRegression'] = compute_clf_cross_validate_score_time(LogisticRegression(), X_train_scaled,y_train)\n",
    "    res_model_type['LogRegression_balanced'] = compute_clf_cross_validate_score_time(LogisticRegression(class_weight='balanced'), X_train_scaled,y_train)\n",
    "    res_model_type['RandomForest'] = compute_clf_cross_validate_score_time(RandomForestClassifier(n_estimators = 100), X_train_scaled,y_train)\n",
    "    res_model_type['AdaBoost'] = compute_clf_cross_validate_score_time(AdaBoostClassifier(n_estimators = 100), X_train_scaled, y_train)\n",
    "    res_model_type['HistGradientBoosting'] = compute_clf_cross_validate_score_time(HistGradientBoostingClassifier(), X_train_scaled, y_train)\n",
    "    #res_model_type['LightGBM'] = compute_clf_cross_validate_score_time(LGBMRegressor(), X_train_scaled, y_train)\n",
    "    \n",
    "    return res_model_type"
   ]
  },
  {
   "cell_type": "code",
   "execution_count": 447,
   "id": "0b9d59b6",
   "metadata": {},
   "outputs": [
    {
     "name": "stdout",
     "output_type": "stream",
     "text": [
      "Nom du classifieur: LogisticRegression . Temps d'execution : 0h : 0min : 3s : 3507ms\n",
      "Nom du classifieur: LogisticRegression . Temps d'execution : 0h : 0min : 3s : 3706ms\n",
      "Nom du classifieur: RandomForestClassifier . Temps d'execution : 4h : 59min : 12s : 17952662ms\n",
      "Nom du classifieur: AdaBoostClassifier . Temps d'execution : 0h : 2min : 35s : 155613ms\n",
      "Nom du classifieur: HistGradientBoostingClassifier . Temps d'execution : 0h : 0min : 35s : 35116ms\n",
      "CPU times: total: 4min 42s\n",
      "Wall time: 5h 2min 30s\n"
     ]
    }
   ],
   "source": [
    "%%time\n",
    "result = result_compute_model(train_data_encoded,train_target_res)"
   ]
  },
  {
   "cell_type": "code",
   "execution_count": 450,
   "id": "fc0d5902",
   "metadata": {},
   "outputs": [
    {
     "data": {
      "text/plain": [
       "{'LogisticRegression': {'Time': 3.507709503173828,\n",
       "  'AUC mean score': 0.88825,\n",
       "  'AUC weighted mean score': 0.88825},\n",
       " 'LogRegression_balanced': {'Time': 3.7066946029663086,\n",
       "  'AUC mean score': 0.88709,\n",
       "  'AUC weighted mean score': 0.88709},\n",
       " 'RandomForest': {'Time': 17952.66239643097,\n",
       "  'AUC mean score': 0.97109,\n",
       "  'AUC weighted mean score': 0.97109},\n",
       " 'AdaBoost': {'Time': 155.613422870636,\n",
       "  'AUC mean score': 0.92337,\n",
       "  'AUC weighted mean score': 0.92337},\n",
       " 'HistGradientBoosting': {'Time': 35.11645746231079,\n",
       "  'AUC mean score': 0.95093,\n",
       "  'AUC weighted mean score': 0.95093}}"
      ]
     },
     "execution_count": 450,
     "metadata": {},
     "output_type": "execute_result"
    }
   ],
   "source": [
    "result"
   ]
  },
  {
   "cell_type": "code",
   "execution_count": 451,
   "id": "5fb32ce6",
   "metadata": {},
   "outputs": [
    {
     "data": {
      "text/html": [
       "<style type=\"text/css\">\n",
       "#T_a45e6_row0_col0, #T_a45e6_row0_col1, #T_a45e6_row0_col2, #T_a45e6_row1_col0, #T_a45e6_row3_col0 {\n",
       "  background-color: #3b4cc0;\n",
       "  color: #f1f1f1;\n",
       "}\n",
       "#T_a45e6_row1_col1, #T_a45e6_row1_col2 {\n",
       "  background-color: #3e51c5;\n",
       "  color: #f1f1f1;\n",
       "}\n",
       "#T_a45e6_row2_col0 {\n",
       "  background-color: #3d50c3;\n",
       "  color: #f1f1f1;\n",
       "}\n",
       "#T_a45e6_row2_col1, #T_a45e6_row2_col2 {\n",
       "  background-color: #cad8ef;\n",
       "  color: #000000;\n",
       "}\n",
       "#T_a45e6_row3_col1, #T_a45e6_row3_col2 {\n",
       "  background-color: #f39577;\n",
       "  color: #000000;\n",
       "}\n",
       "#T_a45e6_row4_col0, #T_a45e6_row4_col1, #T_a45e6_row4_col2 {\n",
       "  background-color: #b40426;\n",
       "  color: #f1f1f1;\n",
       "}\n",
       "</style>\n",
       "<table id=\"T_a45e6\">\n",
       "  <thead>\n",
       "    <tr>\n",
       "      <th class=\"blank level0\" >&nbsp;</th>\n",
       "      <th id=\"T_a45e6_level0_col0\" class=\"col_heading level0 col0\" >Time</th>\n",
       "      <th id=\"T_a45e6_level0_col1\" class=\"col_heading level0 col1\" >AUC mean score</th>\n",
       "      <th id=\"T_a45e6_level0_col2\" class=\"col_heading level0 col2\" >AUC weighted mean score</th>\n",
       "    </tr>\n",
       "  </thead>\n",
       "  <tbody>\n",
       "    <tr>\n",
       "      <th id=\"T_a45e6_level0_row0\" class=\"row_heading level0 row0\" >LogRegression_balanced</th>\n",
       "      <td id=\"T_a45e6_row0_col0\" class=\"data row0 col0\" >3.7067</td>\n",
       "      <td id=\"T_a45e6_row0_col1\" class=\"data row0 col1\" >0.8871</td>\n",
       "      <td id=\"T_a45e6_row0_col2\" class=\"data row0 col2\" >0.8871</td>\n",
       "    </tr>\n",
       "    <tr>\n",
       "      <th id=\"T_a45e6_level0_row1\" class=\"row_heading level0 row1\" >LogisticRegression</th>\n",
       "      <td id=\"T_a45e6_row1_col0\" class=\"data row1 col0\" >3.5077</td>\n",
       "      <td id=\"T_a45e6_row1_col1\" class=\"data row1 col1\" >0.8882</td>\n",
       "      <td id=\"T_a45e6_row1_col2\" class=\"data row1 col2\" >0.8882</td>\n",
       "    </tr>\n",
       "    <tr>\n",
       "      <th id=\"T_a45e6_level0_row2\" class=\"row_heading level0 row2\" >AdaBoost</th>\n",
       "      <td id=\"T_a45e6_row2_col0\" class=\"data row2 col0\" >155.6134</td>\n",
       "      <td id=\"T_a45e6_row2_col1\" class=\"data row2 col1\" >0.9234</td>\n",
       "      <td id=\"T_a45e6_row2_col2\" class=\"data row2 col2\" >0.9234</td>\n",
       "    </tr>\n",
       "    <tr>\n",
       "      <th id=\"T_a45e6_level0_row3\" class=\"row_heading level0 row3\" >HistGradientBoosting</th>\n",
       "      <td id=\"T_a45e6_row3_col0\" class=\"data row3 col0\" >35.1165</td>\n",
       "      <td id=\"T_a45e6_row3_col1\" class=\"data row3 col1\" >0.9509</td>\n",
       "      <td id=\"T_a45e6_row3_col2\" class=\"data row3 col2\" >0.9509</td>\n",
       "    </tr>\n",
       "    <tr>\n",
       "      <th id=\"T_a45e6_level0_row4\" class=\"row_heading level0 row4\" >RandomForest</th>\n",
       "      <td id=\"T_a45e6_row4_col0\" class=\"data row4 col0\" >17952.6624</td>\n",
       "      <td id=\"T_a45e6_row4_col1\" class=\"data row4 col1\" >0.9711</td>\n",
       "      <td id=\"T_a45e6_row4_col2\" class=\"data row4 col2\" >0.9711</td>\n",
       "    </tr>\n",
       "  </tbody>\n",
       "</table>\n"
      ],
      "text/plain": [
       "<pandas.io.formats.style.Styler at 0x181cf4ca7c0>"
      ]
     },
     "execution_count": 451,
     "metadata": {},
     "output_type": "execute_result"
    }
   ],
   "source": [
    "pd.DataFrame(result).T[['Time','AUC mean score','AUC weighted mean score']]\\\n",
    ".dropna()\\\n",
    ".sort_values(by =['AUC mean score'],ascending = True)\\\n",
    ".style.background_gradient(cmap='coolwarm').set_precision(4)"
   ]
  },
  {
   "cell_type": "code",
   "execution_count": 452,
   "id": "3e51e702",
   "metadata": {},
   "outputs": [
    {
     "name": "stdout",
     "output_type": "stream",
     "text": [
      "Variable                                Type                              Data/Info\n",
      "-----------------------------------------------------------------------------------\n",
      "AdaBoostClassifier                      ABCMeta                           <class 'sklearn.ensemble.<...>ting.AdaBoostClassifier'>\n",
      "BaggingClassifier                       ABCMeta                           <class 'sklearn.ensemble.<...>gging.BaggingClassifier'>\n",
      "ColumnTransformer                       ABCMeta                           <class 'sklearn.compose._<...>ormer.ColumnTransformer'>\n",
      "FunctionTransformer                     type                              <class 'sklearn.preproces<...>mer.FunctionTransformer'>\n",
      "GradientBoostingClassifier              ABCMeta                           <class 'sklearn.ensemble.<...>dientBoostingClassifier'>\n",
      "HistGB                                  HistGradientBoostingClassifier    HistGradientBoostingClassifier()\n",
      "HistGradientBoostingClassifier          ABCMeta                           <class 'sklearn.ensemble.<...>dientBoostingClassifier'>\n",
      "IterativeImputer                        type                              <class 'sklearn.impute._i<...>rative.IterativeImputer'>\n",
      "LGBMRegressor                           type                              <class 'lightgbm.sklearn.LGBMRegressor'>\n",
      "LogisticRegression                      type                              <class 'sklearn.linear_mo<...>stic.LogisticRegression'>\n",
      "OneHotEncoder                           type                              <class 'sklearn.preproces<...>_encoders.OneHotEncoder'>\n",
      "Pipeline                                ABCMeta                           <class 'imblearn.pipeline.Pipeline'>\n",
      "RandomForestClassifier                  ABCMeta                           <class 'sklearn.ensemble.<...>.RandomForestClassifier'>\n",
      "SMOTENC                                 ABCMeta                           <class 'imblearn.over_sam<...>ing._smote.base.SMOTENC'>\n",
      "StandardScaler                          type                              <class 'sklearn.preproces<...>ng._data.StandardScaler'>\n",
      "VarianceThreshold                       ABCMeta                           <class 'sklearn.feature_s<...>shold.VarianceThreshold'>\n",
      "aaa                                     DataFrame                                CODE_GENDER  FLAG_<...>22048 rows x 169 columns]\n",
      "accuracy_score                          function                          <function accuracy_score at 0x0000018126300F70>\n",
      "adac                                    AdaBoostClassifier                AdaBoostClassifier()\n",
      "all_num_indices                         list                              n=178\n",
      "auc                                     function                          <function auc at 0x00000181262D9E50>\n",
      "bestfeatures                            list                              n=118\n",
      "bureau_and_balance                      function                          <function bureau_and_bala<...>ce at 0x0000018127E3AE50>\n",
      "cat_indices                             list                              n=10\n",
      "cat_transformer                         OneHotEncoder                     OneHotEncoder(handle_unkn<...>n='ignore', sparse=False)\n",
      "closest_indexes                         ndarray                           2x22048: 44096 elems, type `int64`, 352768 bytes (344.5 kb)\n",
      "closest_values                          ndarray                           2x22048: 44096 elems, type `float64`, 352768 bytes (344.5 kb)\n",
      "colNames                                Index                             Index(['NAME_CONTRACT_TYP<...>ype='object', length=188)\n",
      "compute_clf_cross_validate_score_time   function                          <function compute_clf_cro<...>me at 0x00000181CADB4EE0>\n",
      "contextmanager                          function                          <function contextmanager at 0x000001811B990AF0>\n",
      "continuous_num_indices                  list                              n=139\n",
      "convertMillis                           function                          <function convertMillis at 0x00000181850AB280>\n",
      "credit_card_balance                     function                          <function credit_card_bal<...>ce at 0x0000018127E100D0>\n",
      "cross_validate                          function                          <function cross_validate at 0x00000181264AD700>\n",
      "df                                      DataFrame                                 SK_ID_CURR  TARGE<...>19999 rows x 180 columns]\n",
      "discrete_num_indices                    list                              n=39\n",
      "discrete_values                         list                              n=10\n",
      "discretized_values                      ndarray                           22048: 22048 elems, type `float64`, 176384 bytes (172.25 kb)\n",
      "enable_iterative_imputer                module                            <module 'sklearn.experime<...>le_iterative_imputer.py'>\n",
      "f1_score                                function                          <function f1_score at 0x0000018126306310>\n",
      "gc                                      module                            <module 'gc' (built-in)>\n",
      "generate_auc_roc_curve                  function                          <function generate_auc_ro<...>ve at 0x0000018183D8DAF0>\n",
      "imputer                                 IterativeImputer                  IterativeImputer(random_state=0)\n",
      "index_closest_lower                     ndarray                           22048: 22048 elems, type `int64`, 176384 bytes (172.25 kb)\n",
      "index_closest_upper                     ndarray                           22048: 22048 elems, type `int64`, 176384 bytes (172.25 kb)\n",
      "insertion_index                         ndarray                           22048: 22048 elems, type `int64`, 176384 bytes (172.25 kb)\n",
      "installments_payments                   function                          <function installments_pa<...>ts at 0x0000018127E10040>\n",
      "joblib                                  module                            <module 'joblib' from 'C:<...>es\\\\joblib\\\\__init__.py'>\n",
      "logr                                    LogisticRegression                LogisticRegression()\n",
      "nearest_value                           ndarray                           22048: 22048 elems, type `int64`, 176384 bytes (172.25 kb)\n",
      "np                                      module                            <module 'numpy' from 'C:\\<...>ges\\\\numpy\\\\__init__.py'>\n",
      "num_rows                                NoneType                          None\n",
      "num_transformer                         StandardScaler                    StandardScaler()\n",
      "numeric_discrete_col                    int                               48\n",
      "ohe                                     OneHotEncoder                     OneHotEncoder(handle_unkn<...>lse, sparse_output=False)\n",
      "one_hot_encoder                         function                          <function one_hot_encoder at 0x0000018127E3ADC0>\n",
      "os                                      module                            <module 'os' from 'C:\\\\Us<...>\\\\anaconda3\\\\lib\\\\os.py'>\n",
      "pd                                      module                            <module 'pandas' from 'C:<...>es\\\\pandas\\\\__init__.py'>\n",
      "pipeImputer                             Pipeline                          Pipeline(steps=[('preproc<...>mputer(random_state=0))])\n",
      "plt                                     module                            <module 'matplotlib.pyplo<...>\\\\matplotlib\\\\pyplot.py'>\n",
      "pos_cash                                function                          <function pos_cash at 0x0000018127E3AF70>\n",
      "preprocessor                            ColumnTransformer                 ColumnTransformer(transfo<...>, 52, 53, 54, 55, ...])])\n",
      "previous_applications                   function                          <function previous_applic<...>ns at 0x0000018127E3AEE0>\n",
      "rcParams                                RcParams                          _internal.classic_mode: F<...>: 1.0\\nytick.right: False\n",
      "re_discretize                           function                          <function re_discretize at 0x00000181CF4D2040>\n",
      "result                                  dict                              n=5\n",
      "result_compute_model                    function                          <function result_compute_<...>el at 0x0000018184B09C10>\n",
      "rfc                                     RandomForestClassifier            RandomForestClassifier()\n",
      "roc_auc_score                           function                          <function roc_auc_score at 0x00000181262F6A60>\n",
      "roc_curve                               function                          <function roc_curve at 0x00000181262F6CA0>\n",
      "sc                                      StandardScaler                    StandardScaler()\n",
      "shortest_distances                      ndarray                           2x22048: 44096 elems, type `float64`, 352768 bytes (344.5 kb)\n",
      "smotenc                                 SMOTENC                           SMOTENC(categorical_featu<...>   sampling_strategy=0.5)\n",
      "sns                                     module                            <module 'seaborn' from 'C<...>s\\\\seaborn\\\\__init__.py'>\n",
      "test_data                               DataFrame                                NAME_CONTRACT_TYPE<...>[4000 rows x 178 columns]\n"
     ]
    },
    {
     "name": "stdout",
     "output_type": "stream",
     "text": [
      "test_data_imputed                       DataFrame                               NAME_CONTRACT_TYPE_<...>[4000 rows x 284 columns]\n",
      "test_target                             Series                            28641     0\\n246862    0\\<...>ength: 4000, dtype: int64\n",
      "time                                    module                            <module 'time' (built-in)>\n",
      "timer                                   function                          <function timer at 0x0000018127E3AD30>\n",
      "train_application                       function                          <function train_applicati<...>on at 0x0000018127D57A60>\n",
      "train_data                              DataFrame                                NAME_CONTRACT_TYPE<...>15999 rows x 178 columns]\n",
      "train_data_encoded                      DataFrame                                NAME_CONTRACT_TYPE<...>22048 rows x 284 columns]\n",
      "train_data_imputed                      DataFrame                                cat__NAME_CONTRACT<...>15999 rows x 284 columns]\n",
      "train_data_imputed_TI                   DataFrame                               NAME_CONTRACT_TYPE <...>15999 rows x 178 columns]\n",
      "train_data_res                          DataFrame                               NAME_CONTRACT_TYPE <...>22048 rows x 178 columns]\n",
      "train_target                            Series                            89567     0\\n112291    0\\<...>ngth: 15999, dtype: int64\n",
      "train_target_res                        Series                            0        0\\n1        0\\n2<...>ngth: 22048, dtype: int64\n",
      "train_test_split                        function                          <function train_test_split at 0x00000181264AD160>\n",
      "ttt                                     list                              n=284\n",
      "values_to_discretize                    Series                            0       -1.249400\\n1     <...>th: 22048, dtype: float64\n",
      "var_cat                                 list                              n=10\n",
      "var_discretes                           list                              n=39\n",
      "var_num                                 list                              n=129\n",
      "warnings                                module                            <module 'warnings' from '<...>onda3\\\\lib\\\\warnings.py'>\n"
     ]
    }
   ],
   "source": [
    "%whos"
   ]
  },
  {
   "cell_type": "code",
   "execution_count": null,
   "id": "29e140d0",
   "metadata": {},
   "outputs": [],
   "source": []
  }
 ],
 "metadata": {
  "kernelspec": {
   "display_name": "Python 3 (ipykernel)",
   "language": "python",
   "name": "python3"
  },
  "language_info": {
   "codemirror_mode": {
    "name": "ipython",
    "version": 3
   },
   "file_extension": ".py",
   "mimetype": "text/x-python",
   "name": "python",
   "nbconvert_exporter": "python",
   "pygments_lexer": "ipython3",
   "version": "3.9.16"
  }
 },
 "nbformat": 4,
 "nbformat_minor": 5
}
