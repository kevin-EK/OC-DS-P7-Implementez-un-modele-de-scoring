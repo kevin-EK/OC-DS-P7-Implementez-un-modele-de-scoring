{
 "cells": [
  {
   "cell_type": "raw",
   "id": "7e3f5734",
   "metadata": {},
   "source": [
    "!pip install flask"
   ]
  },
  {
   "cell_type": "code",
   "execution_count": 6,
   "id": "f43ac40c",
   "metadata": {},
   "outputs": [
    {
     "name": "stdout",
     "output_type": "stream",
     "text": [
      " * Serving Flask app '__main__'\n",
      " * Debug mode: off\n"
     ]
    },
    {
     "name": "stderr",
     "output_type": "stream",
     "text": [
      "WARNING: This is a development server. Do not use it in a production deployment. Use a production WSGI server instead.\n",
      " * Running on all addresses (0.0.0.0)\n",
      " * Running on http://127.0.0.1:105\n",
      " * Running on http://192.168.0.38:105\n",
      "Press CTRL+C to quit\n",
      "127.0.0.1 - - [17/Jun/2023 22:58:50] \"GET /hello/ HTTP/1.1\" 200 -\n"
     ]
    }
   ],
   "source": [
    "from flask import Flask\n",
    "\n",
    "app = Flask(__name__)\n",
    "\n",
    "@app.route('/hello/', methods=['GET', 'POST'])\n",
    "def welcome():\n",
    "    return \"Hello World!!!\"\n",
    "\n",
    "if __name__ == '__main__':\n",
    "    app.run(host='0.0.0.0', port=105)"
   ]
  },
  {
   "cell_type": "code",
   "execution_count": 9,
   "id": "2edb04ae",
   "metadata": {},
   "outputs": [
    {
     "name": "stdout",
     "output_type": "stream",
     "text": [
      " * Serving Flask app '__main__'\n",
      " * Debug mode: off\n"
     ]
    },
    {
     "name": "stderr",
     "output_type": "stream",
     "text": [
      "WARNING: This is a development server. Do not use it in a production deployment. Use a production WSGI server instead.\n",
      " * Running on http://127.0.0.1:5000\n",
      "Press CTRL+C to quit\n",
      "127.0.0.1 - - [17/Jun/2023 23:05:59] \"GET /Jimit HTTP/1.1\" 308 -\n",
      "127.0.0.1 - - [17/Jun/2023 23:05:59] \"GET /Jimit/ HTTP/1.1\" 200 -\n",
      "127.0.0.1 - - [17/Jun/2023 23:06:00] \"GET /favicon.ico/ HTTP/1.1\" 200 -\n"
     ]
    }
   ],
   "source": [
    "from flask import Flask\n",
    "app = Flask(__name__)\n",
    "\n",
    "@app.route('/<int:number>/')\n",
    "def incrementer(number):\n",
    "    return \"Incremented number is \" + str(number+1)\n",
    "\n",
    "@app.route('/<string:name>/')\n",
    "def hello(name):\n",
    "    return \"Hello \" + name\n",
    "\n",
    "app.run()"
   ]
  },
  {
   "cell_type": "code",
   "execution_count": null,
   "id": "b35a241e",
   "metadata": {},
   "outputs": [],
   "source": []
  }
 ],
 "metadata": {
  "kernelspec": {
   "display_name": "Python 3 (ipykernel)",
   "language": "python",
   "name": "python3"
  },
  "language_info": {
   "codemirror_mode": {
    "name": "ipython",
    "version": 3
   },
   "file_extension": ".py",
   "mimetype": "text/x-python",
   "name": "python",
   "nbconvert_exporter": "python",
   "pygments_lexer": "ipython3",
   "version": "3.11.3"
  }
 },
 "nbformat": 4,
 "nbformat_minor": 5
}
